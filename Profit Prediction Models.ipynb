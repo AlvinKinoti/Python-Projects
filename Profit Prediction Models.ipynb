{
 "cells": [
  {
   "cell_type": "markdown",
   "id": "9721e69f",
   "metadata": {},
   "source": [
    "### Loading the required libraries"
   ]
  },
  {
   "cell_type": "code",
   "execution_count": 1,
   "id": "9a6f0297",
   "metadata": {},
   "outputs": [],
   "source": [
    "import numpy as np\n",
    "import pandas as pd\n",
    "import matplotlib.pyplot as plt\n",
    "import seaborn as sns\n",
    "import scipy\n",
    "import sklearn"
   ]
  },
  {
   "cell_type": "markdown",
   "id": "b80bb940",
   "metadata": {},
   "source": [
    "### Loading the dataset"
   ]
  },
  {
   "cell_type": "code",
   "execution_count": 2,
   "id": "7921d544",
   "metadata": {},
   "outputs": [],
   "source": [
    "sales = pd.read_csv(\"sales.csv\")"
   ]
  },
  {
   "cell_type": "markdown",
   "id": "07be6eef",
   "metadata": {},
   "source": [
    "### Exploring the dataset"
   ]
  },
  {
   "cell_type": "code",
   "execution_count": 3,
   "id": "bbcd0f87",
   "metadata": {},
   "outputs": [
    {
     "data": {
      "text/plain": [
       "(4248, 20)"
      ]
     },
     "execution_count": 3,
     "metadata": {},
     "output_type": "execute_result"
    }
   ],
   "source": [
    "## shape of the dataset\n",
    "\n",
    "sales.shape"
   ]
  },
  {
   "cell_type": "code",
   "execution_count": 4,
   "id": "242d2c94",
   "metadata": {},
   "outputs": [
    {
     "name": "stdout",
     "output_type": "stream",
     "text": [
      "<class 'pandas.core.frame.DataFrame'>\n",
      "RangeIndex: 4248 entries, 0 to 4247\n",
      "Data columns (total 20 columns):\n",
      " #   Column          Non-Null Count  Dtype  \n",
      "---  ------          --------------  -----  \n",
      " 0   Area Code       4248 non-null   int64  \n",
      " 1   State           4248 non-null   object \n",
      " 2   Market          4248 non-null   object \n",
      " 3   Market Size     4248 non-null   object \n",
      " 4   Profit          4248 non-null   float64\n",
      " 5   Margin          4248 non-null   float64\n",
      " 6   Sales           4248 non-null   float64\n",
      " 7   COGS            4248 non-null   float64\n",
      " 8   Total Expenses  4248 non-null   float64\n",
      " 9   Marketing       4248 non-null   float64\n",
      " 10  Inventory       4248 non-null   float64\n",
      " 11  Budget Profit   4248 non-null   float64\n",
      " 12  Budget COGS     4248 non-null   float64\n",
      " 13  Budget Margin   4248 non-null   float64\n",
      " 14  Budget Sales    4248 non-null   float64\n",
      " 15  ProductId       4248 non-null   int64  \n",
      " 16  Date            4248 non-null   object \n",
      " 17  Product Type    4248 non-null   object \n",
      " 18  Product         4248 non-null   object \n",
      " 19  Type            4248 non-null   object \n",
      "dtypes: float64(11), int64(2), object(7)\n",
      "memory usage: 663.9+ KB\n"
     ]
    }
   ],
   "source": [
    "## information on individual columns\n",
    "\n",
    "sales.info()"
   ]
  },
  {
   "cell_type": "code",
   "execution_count": 5,
   "id": "bcb57079",
   "metadata": {},
   "outputs": [
    {
     "data": {
      "text/html": [
       "<div>\n",
       "<style scoped>\n",
       "    .dataframe tbody tr th:only-of-type {\n",
       "        vertical-align: middle;\n",
       "    }\n",
       "\n",
       "    .dataframe tbody tr th {\n",
       "        vertical-align: top;\n",
       "    }\n",
       "\n",
       "    .dataframe thead th {\n",
       "        text-align: right;\n",
       "    }\n",
       "</style>\n",
       "<table border=\"1\" class=\"dataframe\">\n",
       "  <thead>\n",
       "    <tr style=\"text-align: right;\">\n",
       "      <th></th>\n",
       "      <th>Area Code</th>\n",
       "      <th>Profit</th>\n",
       "      <th>Margin</th>\n",
       "      <th>Sales</th>\n",
       "      <th>COGS</th>\n",
       "      <th>Total Expenses</th>\n",
       "      <th>Marketing</th>\n",
       "      <th>Inventory</th>\n",
       "      <th>Budget Profit</th>\n",
       "      <th>Budget COGS</th>\n",
       "      <th>Budget Margin</th>\n",
       "      <th>Budget Sales</th>\n",
       "      <th>ProductId</th>\n",
       "    </tr>\n",
       "  </thead>\n",
       "  <tbody>\n",
       "    <tr>\n",
       "      <th>count</th>\n",
       "      <td>4248.000000</td>\n",
       "      <td>4248.000000</td>\n",
       "      <td>4248.000000</td>\n",
       "      <td>4248.000000</td>\n",
       "      <td>4248.000000</td>\n",
       "      <td>4248.000000</td>\n",
       "      <td>4248.000000</td>\n",
       "      <td>4248.000000</td>\n",
       "      <td>4248.000000</td>\n",
       "      <td>4248.000000</td>\n",
       "      <td>4248.000000</td>\n",
       "      <td>4248.000000</td>\n",
       "      <td>4248.000000</td>\n",
       "    </tr>\n",
       "    <tr>\n",
       "      <th>mean</th>\n",
       "      <td>582.278013</td>\n",
       "      <td>61.097693</td>\n",
       "      <td>104.293315</td>\n",
       "      <td>192.987524</td>\n",
       "      <td>84.433145</td>\n",
       "      <td>54.063559</td>\n",
       "      <td>31.185028</td>\n",
       "      <td>749.381356</td>\n",
       "      <td>60.913371</td>\n",
       "      <td>74.830508</td>\n",
       "      <td>100.819209</td>\n",
       "      <td>175.649718</td>\n",
       "      <td>6.887006</td>\n",
       "    </tr>\n",
       "    <tr>\n",
       "      <th>std</th>\n",
       "      <td>221.140310</td>\n",
       "      <td>101.708546</td>\n",
       "      <td>94.342522</td>\n",
       "      <td>151.133127</td>\n",
       "      <td>67.249769</td>\n",
       "      <td>32.352598</td>\n",
       "      <td>27.023264</td>\n",
       "      <td>661.031896</td>\n",
       "      <td>79.546123</td>\n",
       "      <td>66.238145</td>\n",
       "      <td>92.602725</td>\n",
       "      <td>148.891522</td>\n",
       "      <td>3.664072</td>\n",
       "    </tr>\n",
       "    <tr>\n",
       "      <th>min</th>\n",
       "      <td>203.000000</td>\n",
       "      <td>-638.000000</td>\n",
       "      <td>-302.000000</td>\n",
       "      <td>17.000000</td>\n",
       "      <td>0.000000</td>\n",
       "      <td>10.000000</td>\n",
       "      <td>0.000000</td>\n",
       "      <td>-3534.000000</td>\n",
       "      <td>-320.000000</td>\n",
       "      <td>0.000000</td>\n",
       "      <td>-210.000000</td>\n",
       "      <td>0.000000</td>\n",
       "      <td>1.000000</td>\n",
       "    </tr>\n",
       "    <tr>\n",
       "      <th>25%</th>\n",
       "      <td>417.000000</td>\n",
       "      <td>17.000000</td>\n",
       "      <td>52.750000</td>\n",
       "      <td>100.000000</td>\n",
       "      <td>43.000000</td>\n",
       "      <td>33.000000</td>\n",
       "      <td>13.000000</td>\n",
       "      <td>432.000000</td>\n",
       "      <td>20.000000</td>\n",
       "      <td>30.000000</td>\n",
       "      <td>50.000000</td>\n",
       "      <td>80.000000</td>\n",
       "      <td>4.000000</td>\n",
       "    </tr>\n",
       "    <tr>\n",
       "      <th>50%</th>\n",
       "      <td>573.000000</td>\n",
       "      <td>40.000000</td>\n",
       "      <td>76.000000</td>\n",
       "      <td>138.000000</td>\n",
       "      <td>60.000000</td>\n",
       "      <td>46.000000</td>\n",
       "      <td>22.000000</td>\n",
       "      <td>619.000000</td>\n",
       "      <td>40.000000</td>\n",
       "      <td>50.000000</td>\n",
       "      <td>70.000000</td>\n",
       "      <td>130.000000</td>\n",
       "      <td>6.000000</td>\n",
       "    </tr>\n",
       "    <tr>\n",
       "      <th>75%</th>\n",
       "      <td>772.000000</td>\n",
       "      <td>92.000000</td>\n",
       "      <td>132.000000</td>\n",
       "      <td>230.000000</td>\n",
       "      <td>100.000000</td>\n",
       "      <td>65.000000</td>\n",
       "      <td>39.000000</td>\n",
       "      <td>910.500000</td>\n",
       "      <td>80.000000</td>\n",
       "      <td>90.000000</td>\n",
       "      <td>130.000000</td>\n",
       "      <td>210.000000</td>\n",
       "      <td>10.000000</td>\n",
       "    </tr>\n",
       "    <tr>\n",
       "      <th>max</th>\n",
       "      <td>985.000000</td>\n",
       "      <td>778.000000</td>\n",
       "      <td>613.000000</td>\n",
       "      <td>912.000000</td>\n",
       "      <td>364.000000</td>\n",
       "      <td>190.000000</td>\n",
       "      <td>156.000000</td>\n",
       "      <td>8252.000000</td>\n",
       "      <td>560.000000</td>\n",
       "      <td>450.000000</td>\n",
       "      <td>690.000000</td>\n",
       "      <td>1140.000000</td>\n",
       "      <td>13.000000</td>\n",
       "    </tr>\n",
       "  </tbody>\n",
       "</table>\n",
       "</div>"
      ],
      "text/plain": [
       "         Area Code       Profit       Margin        Sales         COGS  \\\n",
       "count  4248.000000  4248.000000  4248.000000  4248.000000  4248.000000   \n",
       "mean    582.278013    61.097693   104.293315   192.987524    84.433145   \n",
       "std     221.140310   101.708546    94.342522   151.133127    67.249769   \n",
       "min     203.000000  -638.000000  -302.000000    17.000000     0.000000   \n",
       "25%     417.000000    17.000000    52.750000   100.000000    43.000000   \n",
       "50%     573.000000    40.000000    76.000000   138.000000    60.000000   \n",
       "75%     772.000000    92.000000   132.000000   230.000000   100.000000   \n",
       "max     985.000000   778.000000   613.000000   912.000000   364.000000   \n",
       "\n",
       "       Total Expenses    Marketing    Inventory  Budget Profit  Budget COGS  \\\n",
       "count     4248.000000  4248.000000  4248.000000    4248.000000  4248.000000   \n",
       "mean        54.063559    31.185028   749.381356      60.913371    74.830508   \n",
       "std         32.352598    27.023264   661.031896      79.546123    66.238145   \n",
       "min         10.000000     0.000000 -3534.000000    -320.000000     0.000000   \n",
       "25%         33.000000    13.000000   432.000000      20.000000    30.000000   \n",
       "50%         46.000000    22.000000   619.000000      40.000000    50.000000   \n",
       "75%         65.000000    39.000000   910.500000      80.000000    90.000000   \n",
       "max        190.000000   156.000000  8252.000000     560.000000   450.000000   \n",
       "\n",
       "       Budget Margin  Budget Sales    ProductId  \n",
       "count    4248.000000   4248.000000  4248.000000  \n",
       "mean      100.819209    175.649718     6.887006  \n",
       "std        92.602725    148.891522     3.664072  \n",
       "min      -210.000000      0.000000     1.000000  \n",
       "25%        50.000000     80.000000     4.000000  \n",
       "50%        70.000000    130.000000     6.000000  \n",
       "75%       130.000000    210.000000    10.000000  \n",
       "max       690.000000   1140.000000    13.000000  "
      ]
     },
     "execution_count": 5,
     "metadata": {},
     "output_type": "execute_result"
    }
   ],
   "source": [
    "## more info on the dataset\n",
    "\n",
    "sales.describe()"
   ]
  },
  {
   "cell_type": "code",
   "execution_count": 6,
   "id": "2e97725b",
   "metadata": {},
   "outputs": [
    {
     "data": {
      "text/html": [
       "<div>\n",
       "<style scoped>\n",
       "    .dataframe tbody tr th:only-of-type {\n",
       "        vertical-align: middle;\n",
       "    }\n",
       "\n",
       "    .dataframe tbody tr th {\n",
       "        vertical-align: top;\n",
       "    }\n",
       "\n",
       "    .dataframe thead th {\n",
       "        text-align: right;\n",
       "    }\n",
       "</style>\n",
       "<table border=\"1\" class=\"dataframe\">\n",
       "  <thead>\n",
       "    <tr style=\"text-align: right;\">\n",
       "      <th></th>\n",
       "      <th>Area Code</th>\n",
       "      <th>State</th>\n",
       "      <th>Market</th>\n",
       "      <th>Market Size</th>\n",
       "      <th>Profit</th>\n",
       "      <th>Margin</th>\n",
       "      <th>Sales</th>\n",
       "      <th>COGS</th>\n",
       "      <th>Total Expenses</th>\n",
       "      <th>Marketing</th>\n",
       "      <th>Inventory</th>\n",
       "      <th>Budget Profit</th>\n",
       "      <th>Budget COGS</th>\n",
       "      <th>Budget Margin</th>\n",
       "      <th>Budget Sales</th>\n",
       "      <th>ProductId</th>\n",
       "      <th>Date</th>\n",
       "      <th>Product Type</th>\n",
       "      <th>Product</th>\n",
       "      <th>Type</th>\n",
       "    </tr>\n",
       "  </thead>\n",
       "  <tbody>\n",
       "    <tr>\n",
       "      <th>0</th>\n",
       "      <td>203</td>\n",
       "      <td>Connecticut</td>\n",
       "      <td>East</td>\n",
       "      <td>Small Market</td>\n",
       "      <td>107.0</td>\n",
       "      <td>176.0</td>\n",
       "      <td>292.0</td>\n",
       "      <td>116.0</td>\n",
       "      <td>69.0</td>\n",
       "      <td>38.0</td>\n",
       "      <td>962.0</td>\n",
       "      <td>110.0</td>\n",
       "      <td>110.0</td>\n",
       "      <td>160.0</td>\n",
       "      <td>270.0</td>\n",
       "      <td>2</td>\n",
       "      <td>04/01/10 00:00:00</td>\n",
       "      <td>Coffee</td>\n",
       "      <td>Columbian</td>\n",
       "      <td>Regular</td>\n",
       "    </tr>\n",
       "    <tr>\n",
       "      <th>1</th>\n",
       "      <td>203</td>\n",
       "      <td>Connecticut</td>\n",
       "      <td>East</td>\n",
       "      <td>Small Market</td>\n",
       "      <td>75.0</td>\n",
       "      <td>135.0</td>\n",
       "      <td>225.0</td>\n",
       "      <td>90.0</td>\n",
       "      <td>60.0</td>\n",
       "      <td>29.0</td>\n",
       "      <td>1148.0</td>\n",
       "      <td>90.0</td>\n",
       "      <td>80.0</td>\n",
       "      <td>130.0</td>\n",
       "      <td>210.0</td>\n",
       "      <td>2</td>\n",
       "      <td>07/01/10 00:00:00</td>\n",
       "      <td>Coffee</td>\n",
       "      <td>Columbian</td>\n",
       "      <td>Regular</td>\n",
       "    </tr>\n",
       "  </tbody>\n",
       "</table>\n",
       "</div>"
      ],
      "text/plain": [
       "   Area Code        State Market   Market Size  Profit  Margin  Sales   COGS  \\\n",
       "0        203  Connecticut   East  Small Market   107.0   176.0  292.0  116.0   \n",
       "1        203  Connecticut   East  Small Market    75.0   135.0  225.0   90.0   \n",
       "\n",
       "   Total Expenses  Marketing  Inventory  Budget Profit  Budget COGS  \\\n",
       "0            69.0       38.0      962.0          110.0        110.0   \n",
       "1            60.0       29.0     1148.0           90.0         80.0   \n",
       "\n",
       "   Budget Margin  Budget Sales  ProductId               Date Product Type  \\\n",
       "0          160.0         270.0          2  04/01/10 00:00:00       Coffee   \n",
       "1          130.0         210.0          2  07/01/10 00:00:00       Coffee   \n",
       "\n",
       "     Product     Type  \n",
       "0  Columbian  Regular  \n",
       "1  Columbian  Regular  "
      ]
     },
     "execution_count": 6,
     "metadata": {},
     "output_type": "execute_result"
    }
   ],
   "source": [
    "## first two rows of the sales column\n",
    "\n",
    "sales.head(2)"
   ]
  },
  {
   "cell_type": "code",
   "execution_count": 7,
   "id": "23a2e431",
   "metadata": {},
   "outputs": [
    {
     "data": {
      "text/html": [
       "<div>\n",
       "<style scoped>\n",
       "    .dataframe tbody tr th:only-of-type {\n",
       "        vertical-align: middle;\n",
       "    }\n",
       "\n",
       "    .dataframe tbody tr th {\n",
       "        vertical-align: top;\n",
       "    }\n",
       "\n",
       "    .dataframe thead th {\n",
       "        text-align: right;\n",
       "    }\n",
       "</style>\n",
       "<table border=\"1\" class=\"dataframe\">\n",
       "  <thead>\n",
       "    <tr style=\"text-align: right;\">\n",
       "      <th></th>\n",
       "      <th>0</th>\n",
       "    </tr>\n",
       "  </thead>\n",
       "  <tbody>\n",
       "    <tr>\n",
       "      <th>nobs</th>\n",
       "      <td>4248</td>\n",
       "    </tr>\n",
       "    <tr>\n",
       "      <th>minmax</th>\n",
       "      <td>([203.0, -638.0, -302.0, 17.0, 0.0, 10.0, 0.0,...</td>\n",
       "    </tr>\n",
       "    <tr>\n",
       "      <th>mean</th>\n",
       "      <td>[582.2780131826742, 61.097693032015066, 104.29...</td>\n",
       "    </tr>\n",
       "    <tr>\n",
       "      <th>variance</th>\n",
       "      <td>[48903.03665326849, 10344.628315844531, 8900.5...</td>\n",
       "    </tr>\n",
       "    <tr>\n",
       "      <th>skewness</th>\n",
       "      <td>[0.08449998056952336, 0.44520573924234763, 1.4...</td>\n",
       "    </tr>\n",
       "    <tr>\n",
       "      <th>kurtosis</th>\n",
       "      <td>[-0.9729376725811516, 9.779541380894662, 5.330...</td>\n",
       "    </tr>\n",
       "  </tbody>\n",
       "</table>\n",
       "</div>"
      ],
      "text/plain": [
       "                                                          0\n",
       "nobs                                                   4248\n",
       "minmax    ([203.0, -638.0, -302.0, 17.0, 0.0, 10.0, 0.0,...\n",
       "mean      [582.2780131826742, 61.097693032015066, 104.29...\n",
       "variance  [48903.03665326849, 10344.628315844531, 8900.5...\n",
       "skewness  [0.08449998056952336, 0.44520573924234763, 1.4...\n",
       "kurtosis  [-0.9729376725811516, 9.779541380894662, 5.330..."
      ]
     },
     "execution_count": 7,
     "metadata": {},
     "output_type": "execute_result"
    }
   ],
   "source": [
    "## using the describe function with scipy \n",
    "\n",
    "from scipy.stats import describe\n",
    "\n",
    "sales1 = sales.drop(columns = [\"State\", \"Market\", \"Market Size\", \"Date\", \"Product Type\", \"Product\", \"Type\"])\n",
    "\n",
    "sales_description = pd.DataFrame(describe(sales1),\n",
    "                                index = [\"nobs\", \"minmax\", \"mean\", \"variance\", \"skewness\", \"kurtosis\"])\n",
    "sales_description"
   ]
  },
  {
   "cell_type": "code",
   "execution_count": 8,
   "id": "e0aa8771",
   "metadata": {},
   "outputs": [
    {
     "name": "stdout",
     "output_type": "stream",
     "text": [
      "nobs: 4248\n",
      "minmax: (array([ 2.030e+02, -6.380e+02, -3.020e+02,  1.700e+01,  0.000e+00,\n",
      "        1.000e+01,  0.000e+00, -3.534e+03, -3.200e+02,  0.000e+00,\n",
      "       -2.100e+02,  0.000e+00,  1.000e+00]), array([ 985.,  778.,  613.,  912.,  364.,  190.,  156., 8252.,  560.,\n",
      "        450.,  690., 1140.,   13.]))\n",
      "mean: [582.27801318  61.09769303 104.2933145  192.98752354  84.43314501\n",
      "  54.06355932  31.18502825 749.38135593  60.913371    74.83050847\n",
      " 100.81920904 175.64971751   6.88700565]\n",
      "variance: [4.89030367e+04 1.03446283e+04 8.90051154e+03 2.28412221e+04\n",
      " 4.52253144e+03 1.04669057e+03 7.30256785e+02 4.36963167e+05\n",
      " 6.32758562e+03 4.38749187e+03 8.57526469e+03 2.21686854e+04\n",
      " 1.34254209e+01]\n",
      "skewness: [0.08449998 0.44520574 1.42466637 1.88127463 1.67177937 1.31890421\n",
      " 1.64464537 2.89385796 1.27142796 1.97413273 2.0236107  2.28271083\n",
      " 0.07371341]\n",
      "kurtosis: [-0.97293767  9.77954138  5.33086535  3.48838631  2.26825134  1.58630036\n",
      "  2.41210205 28.51053775  8.27280788  4.48103071  7.06497709  6.60677501\n",
      " -1.23537672]\n"
     ]
    }
   ],
   "source": [
    "for key, value in describe(sales1)._asdict().items():\n",
    "    print(f\"{key}: {value}\")"
   ]
  },
  {
   "cell_type": "code",
   "execution_count": 9,
   "id": "2746ce1b",
   "metadata": {},
   "outputs": [
    {
     "data": {
      "text/html": [
       "<div>\n",
       "<style scoped>\n",
       "    .dataframe tbody tr th:only-of-type {\n",
       "        vertical-align: middle;\n",
       "    }\n",
       "\n",
       "    .dataframe tbody tr th {\n",
       "        vertical-align: top;\n",
       "    }\n",
       "\n",
       "    .dataframe thead th {\n",
       "        text-align: right;\n",
       "    }\n",
       "</style>\n",
       "<table border=\"1\" class=\"dataframe\">\n",
       "  <thead>\n",
       "    <tr style=\"text-align: right;\">\n",
       "      <th></th>\n",
       "      <th>Area Code</th>\n",
       "      <th>State</th>\n",
       "      <th>Market</th>\n",
       "      <th>Market Size</th>\n",
       "      <th>Profit</th>\n",
       "      <th>Margin</th>\n",
       "      <th>Sales</th>\n",
       "      <th>COGS</th>\n",
       "      <th>Total Expenses</th>\n",
       "      <th>Marketing</th>\n",
       "      <th>Inventory</th>\n",
       "      <th>Budget Profit</th>\n",
       "      <th>Budget COGS</th>\n",
       "      <th>Budget Margin</th>\n",
       "      <th>Budget Sales</th>\n",
       "      <th>ProductId</th>\n",
       "      <th>Date</th>\n",
       "      <th>Product Type</th>\n",
       "      <th>Product</th>\n",
       "      <th>Type</th>\n",
       "    </tr>\n",
       "  </thead>\n",
       "  <tbody>\n",
       "    <tr>\n",
       "      <th>4243</th>\n",
       "      <td>985</td>\n",
       "      <td>Louisiana</td>\n",
       "      <td>South</td>\n",
       "      <td>Small Market</td>\n",
       "      <td>-6.0</td>\n",
       "      <td>66.0</td>\n",
       "      <td>113.0</td>\n",
       "      <td>47.0</td>\n",
       "      <td>72.0</td>\n",
       "      <td>42.0</td>\n",
       "      <td>-395.0</td>\n",
       "      <td>0.0</td>\n",
       "      <td>40.0</td>\n",
       "      <td>50.0</td>\n",
       "      <td>90.0</td>\n",
       "      <td>4</td>\n",
       "      <td>07/01/10 00:00:00</td>\n",
       "      <td>Espresso</td>\n",
       "      <td>Caffe Latte</td>\n",
       "      <td>Regular</td>\n",
       "    </tr>\n",
       "    <tr>\n",
       "      <th>4244</th>\n",
       "      <td>985</td>\n",
       "      <td>Louisiana</td>\n",
       "      <td>South</td>\n",
       "      <td>Small Market</td>\n",
       "      <td>-7.0</td>\n",
       "      <td>61.0</td>\n",
       "      <td>105.0</td>\n",
       "      <td>44.0</td>\n",
       "      <td>68.0</td>\n",
       "      <td>39.0</td>\n",
       "      <td>-508.0</td>\n",
       "      <td>10.0</td>\n",
       "      <td>30.0</td>\n",
       "      <td>60.0</td>\n",
       "      <td>90.0</td>\n",
       "      <td>4</td>\n",
       "      <td>08/01/10 00:00:00</td>\n",
       "      <td>Espresso</td>\n",
       "      <td>Caffe Latte</td>\n",
       "      <td>Regular</td>\n",
       "    </tr>\n",
       "    <tr>\n",
       "      <th>4245</th>\n",
       "      <td>985</td>\n",
       "      <td>Louisiana</td>\n",
       "      <td>South</td>\n",
       "      <td>Small Market</td>\n",
       "      <td>-3.0</td>\n",
       "      <td>76.0</td>\n",
       "      <td>131.0</td>\n",
       "      <td>55.0</td>\n",
       "      <td>79.0</td>\n",
       "      <td>49.0</td>\n",
       "      <td>-1053.0</td>\n",
       "      <td>0.0</td>\n",
       "      <td>40.0</td>\n",
       "      <td>60.0</td>\n",
       "      <td>100.0</td>\n",
       "      <td>4</td>\n",
       "      <td>12/01/10 00:00:00</td>\n",
       "      <td>Espresso</td>\n",
       "      <td>Caffe Latte</td>\n",
       "      <td>Regular</td>\n",
       "    </tr>\n",
       "    <tr>\n",
       "      <th>4246</th>\n",
       "      <td>985</td>\n",
       "      <td>Louisiana</td>\n",
       "      <td>South</td>\n",
       "      <td>Small Market</td>\n",
       "      <td>1.0</td>\n",
       "      <td>87.0</td>\n",
       "      <td>160.0</td>\n",
       "      <td>63.0</td>\n",
       "      <td>86.0</td>\n",
       "      <td>57.0</td>\n",
       "      <td>37.0</td>\n",
       "      <td>0.0</td>\n",
       "      <td>50.0</td>\n",
       "      <td>70.0</td>\n",
       "      <td>120.0</td>\n",
       "      <td>4</td>\n",
       "      <td>04/01/11 00:00:00</td>\n",
       "      <td>Espresso</td>\n",
       "      <td>Caffe Latte</td>\n",
       "      <td>Regular</td>\n",
       "    </tr>\n",
       "    <tr>\n",
       "      <th>4247</th>\n",
       "      <td>985</td>\n",
       "      <td>Louisiana</td>\n",
       "      <td>South</td>\n",
       "      <td>Small Market</td>\n",
       "      <td>4.0</td>\n",
       "      <td>90.0</td>\n",
       "      <td>153.0</td>\n",
       "      <td>64.0</td>\n",
       "      <td>81.0</td>\n",
       "      <td>58.0</td>\n",
       "      <td>-113.0</td>\n",
       "      <td>10.0</td>\n",
       "      <td>50.0</td>\n",
       "      <td>80.0</td>\n",
       "      <td>130.0</td>\n",
       "      <td>4</td>\n",
       "      <td>05/01/11 00:00:00</td>\n",
       "      <td>Espresso</td>\n",
       "      <td>Caffe Latte</td>\n",
       "      <td>Regular</td>\n",
       "    </tr>\n",
       "  </tbody>\n",
       "</table>\n",
       "</div>"
      ],
      "text/plain": [
       "      Area Code      State Market   Market Size  Profit  Margin  Sales  COGS  \\\n",
       "4243        985  Louisiana  South  Small Market    -6.0    66.0  113.0  47.0   \n",
       "4244        985  Louisiana  South  Small Market    -7.0    61.0  105.0  44.0   \n",
       "4245        985  Louisiana  South  Small Market    -3.0    76.0  131.0  55.0   \n",
       "4246        985  Louisiana  South  Small Market     1.0    87.0  160.0  63.0   \n",
       "4247        985  Louisiana  South  Small Market     4.0    90.0  153.0  64.0   \n",
       "\n",
       "      Total Expenses  Marketing  Inventory  Budget Profit  Budget COGS  \\\n",
       "4243            72.0       42.0     -395.0            0.0         40.0   \n",
       "4244            68.0       39.0     -508.0           10.0         30.0   \n",
       "4245            79.0       49.0    -1053.0            0.0         40.0   \n",
       "4246            86.0       57.0       37.0            0.0         50.0   \n",
       "4247            81.0       58.0     -113.0           10.0         50.0   \n",
       "\n",
       "      Budget Margin  Budget Sales  ProductId               Date Product Type  \\\n",
       "4243           50.0          90.0          4  07/01/10 00:00:00     Espresso   \n",
       "4244           60.0          90.0          4  08/01/10 00:00:00     Espresso   \n",
       "4245           60.0         100.0          4  12/01/10 00:00:00     Espresso   \n",
       "4246           70.0         120.0          4  04/01/11 00:00:00     Espresso   \n",
       "4247           80.0         130.0          4  05/01/11 00:00:00     Espresso   \n",
       "\n",
       "          Product     Type  \n",
       "4243  Caffe Latte  Regular  \n",
       "4244  Caffe Latte  Regular  \n",
       "4245  Caffe Latte  Regular  \n",
       "4246  Caffe Latte  Regular  \n",
       "4247  Caffe Latte  Regular  "
      ]
     },
     "execution_count": 9,
     "metadata": {},
     "output_type": "execute_result"
    }
   ],
   "source": [
    "## checking the tail of the dataset\n",
    "\n",
    "sales.tail()"
   ]
  },
  {
   "cell_type": "markdown",
   "id": "fab8419d",
   "metadata": {},
   "source": [
    "### Cleaning the dataset"
   ]
  },
  {
   "cell_type": "code",
   "execution_count": 10,
   "id": "07ff12fe",
   "metadata": {},
   "outputs": [
    {
     "data": {
      "text/plain": [
       "Area Code         0\n",
       "State             0\n",
       "Market            0\n",
       "Market Size       0\n",
       "Profit            0\n",
       "Margin            0\n",
       "Sales             0\n",
       "COGS              0\n",
       "Total Expenses    0\n",
       "Marketing         0\n",
       "Inventory         0\n",
       "Budget Profit     0\n",
       "Budget COGS       0\n",
       "Budget Margin     0\n",
       "Budget Sales      0\n",
       "ProductId         0\n",
       "Date              0\n",
       "Product Type      0\n",
       "Product           0\n",
       "Type              0\n",
       "dtype: int64"
      ]
     },
     "execution_count": 10,
     "metadata": {},
     "output_type": "execute_result"
    }
   ],
   "source": [
    "## checking for any null values\n",
    "\n",
    "sales.isnull().sum()"
   ]
  },
  {
   "cell_type": "code",
   "execution_count": 11,
   "id": "985b6ab9",
   "metadata": {},
   "outputs": [
    {
     "data": {
      "text/plain": [
       "0"
      ]
     },
     "execution_count": 11,
     "metadata": {},
     "output_type": "execute_result"
    }
   ],
   "source": [
    "## checking for any duplicates in the dataset\n",
    "\n",
    "sales.duplicated().sum()"
   ]
  },
  {
   "cell_type": "code",
   "execution_count": 12,
   "id": "79205c70",
   "metadata": {},
   "outputs": [
    {
     "data": {
      "image/png": "[encoded data removed]",
      "text/plain": [
       "<Figure size 1500x1500 with 1 Axes>"
      ]
     },
     "metadata": {},
     "output_type": "display_data"
    }
   ],
   "source": [
    "## Cchecking for any outliers\n",
    "\n",
    "plt.figure(figsize = (15,15))\n",
    "sales.boxplot()\n",
    "plt.grid(True)\n",
    "plt.show()"
   ]
  },
  {
   "cell_type": "code",
   "execution_count": 13,
   "id": "c1ab7b86",
   "metadata": {},
   "outputs": [
    {
     "data": {
      "text/html": [
       "<div>\n",
       "<style scoped>\n",
       "    .dataframe tbody tr th:only-of-type {\n",
       "        vertical-align: middle;\n",
       "    }\n",
       "\n",
       "    .dataframe tbody tr th {\n",
       "        vertical-align: top;\n",
       "    }\n",
       "\n",
       "    .dataframe thead th {\n",
       "        text-align: right;\n",
       "    }\n",
       "</style>\n",
       "<table border=\"1\" class=\"dataframe\">\n",
       "  <thead>\n",
       "    <tr style=\"text-align: right;\">\n",
       "      <th></th>\n",
       "      <th>Area Code</th>\n",
       "      <th>State</th>\n",
       "      <th>Market</th>\n",
       "      <th>Market Size</th>\n",
       "      <th>Profit</th>\n",
       "      <th>Margin</th>\n",
       "      <th>Sales</th>\n",
       "      <th>COGS</th>\n",
       "      <th>Total Expenses</th>\n",
       "      <th>Marketing</th>\n",
       "      <th>Inventory</th>\n",
       "      <th>Budget Profit</th>\n",
       "      <th>Budget COGS</th>\n",
       "      <th>Budget Margin</th>\n",
       "      <th>Budget Sales</th>\n",
       "      <th>ProductId</th>\n",
       "      <th>Date</th>\n",
       "      <th>Product Type</th>\n",
       "      <th>Product</th>\n",
       "      <th>Type</th>\n",
       "    </tr>\n",
       "  </thead>\n",
       "  <tbody>\n",
       "    <tr>\n",
       "      <th>131</th>\n",
       "      <td>209</td>\n",
       "      <td>California</td>\n",
       "      <td>West</td>\n",
       "      <td>Major Market</td>\n",
       "      <td>-138.0</td>\n",
       "      <td>-67.0</td>\n",
       "      <td>87.0</td>\n",
       "      <td>154.0</td>\n",
       "      <td>71.0</td>\n",
       "      <td>49.0</td>\n",
       "      <td>1832.0</td>\n",
       "      <td>-150.0</td>\n",
       "      <td>190.0</td>\n",
       "      <td>-90.0</td>\n",
       "      <td>100.0</td>\n",
       "      <td>1</td>\n",
       "      <td>07/01/10 00:00:00</td>\n",
       "      <td>Coffee</td>\n",
       "      <td>Amaretto</td>\n",
       "      <td>Regular</td>\n",
       "    </tr>\n",
       "    <tr>\n",
       "      <th>133</th>\n",
       "      <td>209</td>\n",
       "      <td>California</td>\n",
       "      <td>West</td>\n",
       "      <td>Major Market</td>\n",
       "      <td>-131.0</td>\n",
       "      <td>-25.0</td>\n",
       "      <td>109.0</td>\n",
       "      <td>127.0</td>\n",
       "      <td>63.0</td>\n",
       "      <td>40.0</td>\n",
       "      <td>2947.0</td>\n",
       "      <td>-90.0</td>\n",
       "      <td>150.0</td>\n",
       "      <td>-30.0</td>\n",
       "      <td>120.0</td>\n",
       "      <td>1</td>\n",
       "      <td>12/01/11 00:00:00</td>\n",
       "      <td>Coffee</td>\n",
       "      <td>Amaretto</td>\n",
       "      <td>Regular</td>\n",
       "    </tr>\n",
       "    <tr>\n",
       "      <th>134</th>\n",
       "      <td>209</td>\n",
       "      <td>California</td>\n",
       "      <td>West</td>\n",
       "      <td>Major Market</td>\n",
       "      <td>276.0</td>\n",
       "      <td>428.0</td>\n",
       "      <td>712.0</td>\n",
       "      <td>284.0</td>\n",
       "      <td>152.0</td>\n",
       "      <td>99.0</td>\n",
       "      <td>2108.0</td>\n",
       "      <td>400.0</td>\n",
       "      <td>350.0</td>\n",
       "      <td>540.0</td>\n",
       "      <td>890.0</td>\n",
       "      <td>2</td>\n",
       "      <td>04/01/10 00:00:00</td>\n",
       "      <td>Coffee</td>\n",
       "      <td>Columbian</td>\n",
       "      <td>Regular</td>\n",
       "    </tr>\n",
       "    <tr>\n",
       "      <th>135</th>\n",
       "      <td>209</td>\n",
       "      <td>California</td>\n",
       "      <td>West</td>\n",
       "      <td>Major Market</td>\n",
       "      <td>410.0</td>\n",
       "      <td>428.0</td>\n",
       "      <td>759.0</td>\n",
       "      <td>284.0</td>\n",
       "      <td>152.0</td>\n",
       "      <td>99.0</td>\n",
       "      <td>2108.0</td>\n",
       "      <td>400.0</td>\n",
       "      <td>350.0</td>\n",
       "      <td>540.0</td>\n",
       "      <td>890.0</td>\n",
       "      <td>2</td>\n",
       "      <td>04/01/11 00:00:00</td>\n",
       "      <td>Coffee</td>\n",
       "      <td>Columbian</td>\n",
       "      <td>Regular</td>\n",
       "    </tr>\n",
       "    <tr>\n",
       "      <th>138</th>\n",
       "      <td>209</td>\n",
       "      <td>California</td>\n",
       "      <td>West</td>\n",
       "      <td>Major Market</td>\n",
       "      <td>216.0</td>\n",
       "      <td>329.0</td>\n",
       "      <td>576.0</td>\n",
       "      <td>247.0</td>\n",
       "      <td>113.0</td>\n",
       "      <td>81.0</td>\n",
       "      <td>1744.0</td>\n",
       "      <td>210.0</td>\n",
       "      <td>240.0</td>\n",
       "      <td>310.0</td>\n",
       "      <td>550.0</td>\n",
       "      <td>6</td>\n",
       "      <td>12/01/10 00:00:00</td>\n",
       "      <td>Espresso</td>\n",
       "      <td>Decaf Espresso</td>\n",
       "      <td>Decaf</td>\n",
       "    </tr>\n",
       "    <tr>\n",
       "      <th>...</th>\n",
       "      <td>...</td>\n",
       "      <td>...</td>\n",
       "      <td>...</td>\n",
       "      <td>...</td>\n",
       "      <td>...</td>\n",
       "      <td>...</td>\n",
       "      <td>...</td>\n",
       "      <td>...</td>\n",
       "      <td>...</td>\n",
       "      <td>...</td>\n",
       "      <td>...</td>\n",
       "      <td>...</td>\n",
       "      <td>...</td>\n",
       "      <td>...</td>\n",
       "      <td>...</td>\n",
       "      <td>...</td>\n",
       "      <td>...</td>\n",
       "      <td>...</td>\n",
       "      <td>...</td>\n",
       "      <td>...</td>\n",
       "    </tr>\n",
       "    <tr>\n",
       "      <th>4198</th>\n",
       "      <td>978</td>\n",
       "      <td>Massachusetts</td>\n",
       "      <td>East</td>\n",
       "      <td>Major Market</td>\n",
       "      <td>324.0</td>\n",
       "      <td>379.0</td>\n",
       "      <td>454.0</td>\n",
       "      <td>75.0</td>\n",
       "      <td>55.0</td>\n",
       "      <td>24.0</td>\n",
       "      <td>-3287.0</td>\n",
       "      <td>300.0</td>\n",
       "      <td>60.0</td>\n",
       "      <td>340.0</td>\n",
       "      <td>400.0</td>\n",
       "      <td>2</td>\n",
       "      <td>11/01/10 00:00:00</td>\n",
       "      <td>Coffee</td>\n",
       "      <td>Columbian</td>\n",
       "      <td>Regular</td>\n",
       "    </tr>\n",
       "    <tr>\n",
       "      <th>4199</th>\n",
       "      <td>978</td>\n",
       "      <td>Massachusetts</td>\n",
       "      <td>East</td>\n",
       "      <td>Major Market</td>\n",
       "      <td>778.0</td>\n",
       "      <td>613.0</td>\n",
       "      <td>659.0</td>\n",
       "      <td>52.0</td>\n",
       "      <td>46.0</td>\n",
       "      <td>17.0</td>\n",
       "      <td>-1493.0</td>\n",
       "      <td>560.0</td>\n",
       "      <td>40.0</td>\n",
       "      <td>590.0</td>\n",
       "      <td>630.0</td>\n",
       "      <td>2</td>\n",
       "      <td>07/01/11 00:00:00</td>\n",
       "      <td>Coffee</td>\n",
       "      <td>Columbian</td>\n",
       "      <td>Regular</td>\n",
       "    </tr>\n",
       "    <tr>\n",
       "      <th>4243</th>\n",
       "      <td>985</td>\n",
       "      <td>Louisiana</td>\n",
       "      <td>South</td>\n",
       "      <td>Small Market</td>\n",
       "      <td>-6.0</td>\n",
       "      <td>66.0</td>\n",
       "      <td>113.0</td>\n",
       "      <td>47.0</td>\n",
       "      <td>72.0</td>\n",
       "      <td>42.0</td>\n",
       "      <td>-395.0</td>\n",
       "      <td>0.0</td>\n",
       "      <td>40.0</td>\n",
       "      <td>50.0</td>\n",
       "      <td>90.0</td>\n",
       "      <td>4</td>\n",
       "      <td>07/01/10 00:00:00</td>\n",
       "      <td>Espresso</td>\n",
       "      <td>Caffe Latte</td>\n",
       "      <td>Regular</td>\n",
       "    </tr>\n",
       "    <tr>\n",
       "      <th>4244</th>\n",
       "      <td>985</td>\n",
       "      <td>Louisiana</td>\n",
       "      <td>South</td>\n",
       "      <td>Small Market</td>\n",
       "      <td>-7.0</td>\n",
       "      <td>61.0</td>\n",
       "      <td>105.0</td>\n",
       "      <td>44.0</td>\n",
       "      <td>68.0</td>\n",
       "      <td>39.0</td>\n",
       "      <td>-508.0</td>\n",
       "      <td>10.0</td>\n",
       "      <td>30.0</td>\n",
       "      <td>60.0</td>\n",
       "      <td>90.0</td>\n",
       "      <td>4</td>\n",
       "      <td>08/01/10 00:00:00</td>\n",
       "      <td>Espresso</td>\n",
       "      <td>Caffe Latte</td>\n",
       "      <td>Regular</td>\n",
       "    </tr>\n",
       "    <tr>\n",
       "      <th>4245</th>\n",
       "      <td>985</td>\n",
       "      <td>Louisiana</td>\n",
       "      <td>South</td>\n",
       "      <td>Small Market</td>\n",
       "      <td>-3.0</td>\n",
       "      <td>76.0</td>\n",
       "      <td>131.0</td>\n",
       "      <td>55.0</td>\n",
       "      <td>79.0</td>\n",
       "      <td>49.0</td>\n",
       "      <td>-1053.0</td>\n",
       "      <td>0.0</td>\n",
       "      <td>40.0</td>\n",
       "      <td>60.0</td>\n",
       "      <td>100.0</td>\n",
       "      <td>4</td>\n",
       "      <td>12/01/10 00:00:00</td>\n",
       "      <td>Espresso</td>\n",
       "      <td>Caffe Latte</td>\n",
       "      <td>Regular</td>\n",
       "    </tr>\n",
       "  </tbody>\n",
       "</table>\n",
       "<p>346 rows × 20 columns</p>\n",
       "</div>"
      ],
      "text/plain": [
       "      Area Code          State Market   Market Size  Profit  Margin  Sales  \\\n",
       "131         209     California   West  Major Market  -138.0   -67.0   87.0   \n",
       "133         209     California   West  Major Market  -131.0   -25.0  109.0   \n",
       "134         209     California   West  Major Market   276.0   428.0  712.0   \n",
       "135         209     California   West  Major Market   410.0   428.0  759.0   \n",
       "138         209     California   West  Major Market   216.0   329.0  576.0   \n",
       "...         ...            ...    ...           ...     ...     ...    ...   \n",
       "4198        978  Massachusetts   East  Major Market   324.0   379.0  454.0   \n",
       "4199        978  Massachusetts   East  Major Market   778.0   613.0  659.0   \n",
       "4243        985      Louisiana  South  Small Market    -6.0    66.0  113.0   \n",
       "4244        985      Louisiana  South  Small Market    -7.0    61.0  105.0   \n",
       "4245        985      Louisiana  South  Small Market    -3.0    76.0  131.0   \n",
       "\n",
       "       COGS  Total Expenses  Marketing  Inventory  Budget Profit  Budget COGS  \\\n",
       "131   154.0            71.0       49.0     1832.0         -150.0        190.0   \n",
       "133   127.0            63.0       40.0     2947.0          -90.0        150.0   \n",
       "134   284.0           152.0       99.0     2108.0          400.0        350.0   \n",
       "135   284.0           152.0       99.0     2108.0          400.0        350.0   \n",
       "138   247.0           113.0       81.0     1744.0          210.0        240.0   \n",
       "...     ...             ...        ...        ...            ...          ...   \n",
       "4198   75.0            55.0       24.0    -3287.0          300.0         60.0   \n",
       "4199   52.0            46.0       17.0    -1493.0          560.0         40.0   \n",
       "4243   47.0            72.0       42.0     -395.0            0.0         40.0   \n",
       "4244   44.0            68.0       39.0     -508.0           10.0         30.0   \n",
       "4245   55.0            79.0       49.0    -1053.0            0.0         40.0   \n",
       "\n",
       "      Budget Margin  Budget Sales  ProductId               Date Product Type  \\\n",
       "131           -90.0         100.0          1  07/01/10 00:00:00       Coffee   \n",
       "133           -30.0         120.0          1  12/01/11 00:00:00       Coffee   \n",
       "134           540.0         890.0          2  04/01/10 00:00:00       Coffee   \n",
       "135           540.0         890.0          2  04/01/11 00:00:00       Coffee   \n",
       "138           310.0         550.0          6  12/01/10 00:00:00     Espresso   \n",
       "...             ...           ...        ...                ...          ...   \n",
       "4198          340.0         400.0          2  11/01/10 00:00:00       Coffee   \n",
       "4199          590.0         630.0          2  07/01/11 00:00:00       Coffee   \n",
       "4243           50.0          90.0          4  07/01/10 00:00:00     Espresso   \n",
       "4244           60.0          90.0          4  08/01/10 00:00:00     Espresso   \n",
       "4245           60.0         100.0          4  12/01/10 00:00:00     Espresso   \n",
       "\n",
       "             Product     Type  \n",
       "131         Amaretto  Regular  \n",
       "133         Amaretto  Regular  \n",
       "134        Columbian  Regular  \n",
       "135        Columbian  Regular  \n",
       "138   Decaf Espresso    Decaf  \n",
       "...              ...      ...  \n",
       "4198       Columbian  Regular  \n",
       "4199       Columbian  Regular  \n",
       "4243     Caffe Latte  Regular  \n",
       "4244     Caffe Latte  Regular  \n",
       "4245     Caffe Latte  Regular  \n",
       "\n",
       "[346 rows x 20 columns]"
      ]
     },
     "execution_count": 13,
     "metadata": {},
     "output_type": "execute_result"
    }
   ],
   "source": [
    "## Dealing with outliers in the inventory column\n",
    "\n",
    "q1 = sales[\"Inventory\"].quantile(0.25)\n",
    "q3 = sales[\"Inventory\"].quantile(0.75)\n",
    "\n",
    "iqr = q3 - q1 \n",
    "\n",
    "upper_limit = q3 + (1.5 * iqr)\n",
    "lower_limit = q1 - (1.5 * iqr)\n",
    "\n",
    "sales.loc[(sales[\"Inventory\"] > upper_limit) | (sales[\"Inventory\"] < lower_limit)] # identifying the outliers"
   ]
  },
  {
   "cell_type": "code",
   "execution_count": 14,
   "id": "dcba2dd3",
   "metadata": {},
   "outputs": [
    {
     "name": "stdout",
     "output_type": "stream",
     "text": [
      "Before Removing Outliers: 4248\n",
      "After Removing Outliers: 346\n",
      "Outliers: 3902\n"
     ]
    }
   ],
   "source": [
    "sales_2 = sales.loc[(sales[\"Inventory\"] > upper_limit) | (sales[\"Inventory\"] < lower_limit)] ## removing the outliers\n",
    "\n",
    "print(\"Before Removing Outliers:\", len(sales))\n",
    "print(\"After Removing Outliers:\", len(sales_2))\n",
    "print(\"Outliers:\", len(sales) - len(sales_2))"
   ]
  },
  {
   "cell_type": "markdown",
   "id": "c9faba6c",
   "metadata": {},
   "source": [
    "##### N/B Due to the small size of the dataset, I focused on removing the outliers from the inventory column"
   ]
  },
  {
   "cell_type": "markdown",
   "id": "c20e785d",
   "metadata": {},
   "source": [
    "### Exploratory Data Analysis"
   ]
  },
  {
   "cell_type": "code",
   "execution_count": 15,
   "id": "c55b5c81",
   "metadata": {},
   "outputs": [
    {
     "name": "stderr",
     "output_type": "stream",
     "text": [
      "C:\\ProgramData\\anaconda3\\Lib\\site-packages\\seaborn\\axisgrid.py:118: UserWarning: The figure layout has changed to tight\n",
      "  self._figure.tight_layout(*args, **kwargs)\n"
     ]
    },
    {
     "data": {
      "text/plain": [
       "<Figure size 700x700 with 0 Axes>"
      ]
     },
     "metadata": {},
     "output_type": "display_data"
    },
    {
     "data": {
      "image/png": "[encoded data removed]",
      "text/plain": [
       "<Figure size 500x500 with 1 Axes>"
      ]
     },
     "metadata": {},
     "output_type": "display_data"
    }
   ],
   "source": [
    "## Sales distribution\n",
    "\n",
    "plt.figure(figsize = (7,7))\n",
    "sns.displot(sales_2[\"Sales\"], color = \"green\")\n",
    "plt.xlabel(\"Sales\")\n",
    "plt.ylabel(\"Count\")\n",
    "plt.grid(True)\n",
    "plt.title(\"Sales Dsitribution\", loc = \"left\")\n",
    "plt.show()"
   ]
  },
  {
   "cell_type": "markdown",
   "id": "b8af3f76",
   "metadata": {},
   "source": [
    "#### Conclusion : The Sales is skewed to the right meaning that the mean is more than the median."
   ]
  },
  {
   "cell_type": "code",
   "execution_count": 16,
   "id": "9b247f6d",
   "metadata": {},
   "outputs": [
    {
     "data": {
      "image/png": "[encoded data removed]",
      "text/plain": [
       "<Figure size 1000x1000 with 1 Axes>"
      ]
     },
     "metadata": {},
     "output_type": "display_data"
    }
   ],
   "source": [
    "## state with the highest number of sales\n",
    "\n",
    "plt.figure(figsize = (10,10))\n",
    "plt.barh(sales_2[\"State\"], sales_2[\"Sales\"], color = \"maroon\")\n",
    "plt.xlabel(\"Sales\")\n",
    "plt.ylabel(\"State\")\n",
    "plt.grid(True)\n",
    "plt.title(\"Sales Per State\", loc = \"left\")\n",
    "plt.show()"
   ]
  },
  {
   "cell_type": "markdown",
   "id": "23cf3ce3",
   "metadata": {},
   "source": [
    "#### Conlusions:\n",
    "    1. Carlifonia and New York have the highest sales.\n",
    "    2. Louisiana had the lowest sales.\n",
    "\n",
    "#### Recommendations:\n",
    "    1. Effective marketing strategies sould be put in place to increase sales revenue in Louisiana and other low income earning states.\n",
    "    2. There is need to implement more customer-centric framweorks in medium and low performing states to boost client base."
   ]
  },
  {
   "cell_type": "code",
   "execution_count": 20,
   "id": "44abf828",
   "metadata": {},
   "outputs": [
    {
     "data": {
      "image/png": "[encoded data removed]",
      "text/plain": [
       "<Figure size 500x500 with 1 Axes>"
      ]
     },
     "metadata": {},
     "output_type": "display_data"
    }
   ],
   "source": [
    "## Product type with the highest cost of production\n",
    "\n",
    "plt.figure(figsize = (5,5))\n",
    "plt.barh(sales_2[\"Product Type\"], sales_2[\"COGS\"], color = \"black\")\n",
    "plt.xlabel(\"Production Cost\")\n",
    "plt.ylabel(\"Product Type\")\n",
    "plt.grid(True)\n",
    "plt.title(\"Cost of Production per Product Type\", loc = \"left\")\n",
    "plt.show()"
   ]
  },
  {
   "cell_type": "code",
   "execution_count": 18,
   "id": "4baea925",
   "metadata": {},
   "outputs": [
    {
     "data": {
      "image/png": "[encoded data removed]",
      "text/plain": [
       "<Figure size 500x500 with 1 Axes>"
      ]
     },
     "metadata": {},
     "output_type": "display_data"
    }
   ],
   "source": [
    "## product type with the highest sales\n",
    "\n",
    "plt.figure(figsize = (5,5))\n",
    "plt.barh(sales_2[\"Product Type\"], sales_2[\"Sales\"], color = \"grey\")\n",
    "plt.xlabel(\"Sales\")\n",
    "plt.ylabel(\"Product Type\")\n",
    "plt.grid(True)\n",
    "plt.title(\"Sales per Product Type\", loc = \"left\")\n",
    "plt.show()"
   ]
  },
  {
   "cell_type": "markdown",
   "id": "651de41b",
   "metadata": {},
   "source": [
    "#### Conclusons: \n",
    "    1. Coffee has the highest product costs and sales revenue, indicating that consumers prefer coffee over other products.\n",
    "    2. Expresso has the lowest production costs the least sales.\n",
    "\n",
    "#### Reccomendations:\n",
    "    1. More investments should be made to produce expresso in order to continue maximizing on sales.\n",
    "    2. In order to improve the ROI on tea and expresso, more efficient maketing policies should be focused on tea based on consumer's preference."
   ]
  },
  {
   "cell_type": "code",
   "execution_count": 21,
   "id": "0e85e14b",
   "metadata": {},
   "outputs": [
    {
     "data": {
      "image/png": "[encoded data removed]",
      "text/plain": [
       "<Figure size 500x500 with 1 Axes>"
      ]
     },
     "metadata": {},
     "output_type": "display_data"
    }
   ],
   "source": [
    "## markets and the marketing budgets\n",
    "\n",
    "plt.figure(figsize = (5,5))\n",
    "plt.barh(sales_2[\"Market\"], sales_2[\"Marketing\"], color = \"green\")\n",
    "plt.xlabel(\"Marketing Expenditure\")\n",
    "plt.ylabel(\"Market\")\n",
    "plt.grid(True)\n",
    "plt.title(\"Marketing Expenditure per Market\", loc = \"left\")\n",
    "plt.show()"
   ]
  },
  {
   "cell_type": "markdown",
   "id": "7afaec0e",
   "metadata": {},
   "source": [
    "#### The east and west have the higher marketing expenditure as compared to the central and south markets."
   ]
  },
  {
   "cell_type": "code",
   "execution_count": 22,
   "id": "8c1bf41f",
   "metadata": {},
   "outputs": [
    {
     "data": {
      "image/png": "[encoded data removed]",
      "text/plain": [
       "<Figure size 500x500 with 1 Axes>"
      ]
     },
     "metadata": {},
     "output_type": "display_data"
    }
   ],
   "source": [
    "## market and sales\n",
    "\n",
    "plt.figure(figsize = (5,5))\n",
    "plt.barh(sales_2[\"Market\"], sales_2[\"Sales\"], color = \"green\")\n",
    "plt.xlabel(\"Sales\")\n",
    "plt.ylabel(\"Market\")\n",
    "plt.grid(True)\n",
    "plt.title(\"Sales per Market\", loc = \"left\")\n",
    "plt.show()"
   ]
  },
  {
   "cell_type": "markdown",
   "id": "16da379b",
   "metadata": {},
   "source": [
    "#### The west and east have more sales as compared to the central and south markets"
   ]
  },
  {
   "cell_type": "markdown",
   "id": "465ea71f",
   "metadata": {},
   "source": [
    "#### Conclusion: More marketing expenditure should be invested to boost sales in both the south and central regions"
   ]
  },
  {
   "cell_type": "code",
   "execution_count": 23,
   "id": "36743c20",
   "metadata": {},
   "outputs": [
    {
     "data": {
      "image/png": "[encoded data removed]",
      "text/plain": [
       "<Figure size 1000x1000 with 2 Axes>"
      ]
     },
     "metadata": {},
     "output_type": "display_data"
    }
   ],
   "source": [
    "## plotting the correlation of variables\n",
    "\n",
    "correlation = sales1.corr()\n",
    "\n",
    "plt.figure(figsize = (10,10))\n",
    "sns.heatmap(correlation, cbar=True, annot=True, annot_kws={\"size\": 15}, fmt=\".1f\", square=True, center=True, cmap=\"coolwarm\")\n",
    "plt.show()"
   ]
  },
  {
   "cell_type": "code",
   "execution_count": 28,
   "id": "c78783ee",
   "metadata": {},
   "outputs": [
    {
     "name": "stdout",
     "output_type": "stream",
     "text": [
      "['Major Market' 'Small Market']\n",
      "  \n",
      "['Coffee' 'Espresso' 'Herbal Tea' 'Tea']\n"
     ]
    }
   ],
   "source": [
    "## unique market sizes\n",
    "\n",
    "print(sales_2[\"Market Size\"].unique())\n",
    "print(\"  \")\n",
    "print(sales_2[\"Product Type\"].unique())"
   ]
  },
  {
   "cell_type": "markdown",
   "id": "bf291632",
   "metadata": {},
   "source": [
    "### Building predction models to determine the Profit"
   ]
  },
  {
   "cell_type": "markdown",
   "id": "78c1bc9e",
   "metadata": {},
   "source": [
    "#### 1. Linear Regression"
   ]
  },
  {
   "cell_type": "code",
   "execution_count": 32,
   "id": "51e473bc",
   "metadata": {},
   "outputs": [
    {
     "data": {
      "text/html": [
       "<div>\n",
       "<style scoped>\n",
       "    .dataframe tbody tr th:only-of-type {\n",
       "        vertical-align: middle;\n",
       "    }\n",
       "\n",
       "    .dataframe tbody tr th {\n",
       "        vertical-align: top;\n",
       "    }\n",
       "\n",
       "    .dataframe thead th {\n",
       "        text-align: right;\n",
       "    }\n",
       "</style>\n",
       "<table border=\"1\" class=\"dataframe\">\n",
       "  <thead>\n",
       "    <tr style=\"text-align: right;\">\n",
       "      <th></th>\n",
       "      <th>Area Code</th>\n",
       "      <th>State</th>\n",
       "      <th>Market</th>\n",
       "      <th>Market Size</th>\n",
       "      <th>Profit</th>\n",
       "      <th>Margin</th>\n",
       "      <th>Sales</th>\n",
       "      <th>COGS</th>\n",
       "      <th>Total Expenses</th>\n",
       "      <th>Marketing</th>\n",
       "      <th>Inventory</th>\n",
       "      <th>Budget Profit</th>\n",
       "      <th>Budget COGS</th>\n",
       "      <th>Budget Margin</th>\n",
       "      <th>Budget Sales</th>\n",
       "      <th>ProductId</th>\n",
       "      <th>Date</th>\n",
       "      <th>Product Type</th>\n",
       "      <th>Product</th>\n",
       "      <th>Type</th>\n",
       "    </tr>\n",
       "  </thead>\n",
       "  <tbody>\n",
       "    <tr>\n",
       "      <th>131</th>\n",
       "      <td>209</td>\n",
       "      <td>California</td>\n",
       "      <td>West</td>\n",
       "      <td>Major Market</td>\n",
       "      <td>-138.0</td>\n",
       "      <td>-67.0</td>\n",
       "      <td>87.0</td>\n",
       "      <td>154.0</td>\n",
       "      <td>71.0</td>\n",
       "      <td>49.0</td>\n",
       "      <td>1832.0</td>\n",
       "      <td>-150.0</td>\n",
       "      <td>190.0</td>\n",
       "      <td>-90.0</td>\n",
       "      <td>100.0</td>\n",
       "      <td>1</td>\n",
       "      <td>07/01/10 00:00:00</td>\n",
       "      <td>Coffee</td>\n",
       "      <td>Amaretto</td>\n",
       "      <td>Regular</td>\n",
       "    </tr>\n",
       "    <tr>\n",
       "      <th>133</th>\n",
       "      <td>209</td>\n",
       "      <td>California</td>\n",
       "      <td>West</td>\n",
       "      <td>Major Market</td>\n",
       "      <td>-131.0</td>\n",
       "      <td>-25.0</td>\n",
       "      <td>109.0</td>\n",
       "      <td>127.0</td>\n",
       "      <td>63.0</td>\n",
       "      <td>40.0</td>\n",
       "      <td>2947.0</td>\n",
       "      <td>-90.0</td>\n",
       "      <td>150.0</td>\n",
       "      <td>-30.0</td>\n",
       "      <td>120.0</td>\n",
       "      <td>1</td>\n",
       "      <td>12/01/11 00:00:00</td>\n",
       "      <td>Coffee</td>\n",
       "      <td>Amaretto</td>\n",
       "      <td>Regular</td>\n",
       "    </tr>\n",
       "    <tr>\n",
       "      <th>134</th>\n",
       "      <td>209</td>\n",
       "      <td>California</td>\n",
       "      <td>West</td>\n",
       "      <td>Major Market</td>\n",
       "      <td>276.0</td>\n",
       "      <td>428.0</td>\n",
       "      <td>712.0</td>\n",
       "      <td>284.0</td>\n",
       "      <td>152.0</td>\n",
       "      <td>99.0</td>\n",
       "      <td>2108.0</td>\n",
       "      <td>400.0</td>\n",
       "      <td>350.0</td>\n",
       "      <td>540.0</td>\n",
       "      <td>890.0</td>\n",
       "      <td>2</td>\n",
       "      <td>04/01/10 00:00:00</td>\n",
       "      <td>Coffee</td>\n",
       "      <td>Columbian</td>\n",
       "      <td>Regular</td>\n",
       "    </tr>\n",
       "    <tr>\n",
       "      <th>135</th>\n",
       "      <td>209</td>\n",
       "      <td>California</td>\n",
       "      <td>West</td>\n",
       "      <td>Major Market</td>\n",
       "      <td>410.0</td>\n",
       "      <td>428.0</td>\n",
       "      <td>759.0</td>\n",
       "      <td>284.0</td>\n",
       "      <td>152.0</td>\n",
       "      <td>99.0</td>\n",
       "      <td>2108.0</td>\n",
       "      <td>400.0</td>\n",
       "      <td>350.0</td>\n",
       "      <td>540.0</td>\n",
       "      <td>890.0</td>\n",
       "      <td>2</td>\n",
       "      <td>04/01/11 00:00:00</td>\n",
       "      <td>Coffee</td>\n",
       "      <td>Columbian</td>\n",
       "      <td>Regular</td>\n",
       "    </tr>\n",
       "    <tr>\n",
       "      <th>138</th>\n",
       "      <td>209</td>\n",
       "      <td>California</td>\n",
       "      <td>West</td>\n",
       "      <td>Major Market</td>\n",
       "      <td>216.0</td>\n",
       "      <td>329.0</td>\n",
       "      <td>576.0</td>\n",
       "      <td>247.0</td>\n",
       "      <td>113.0</td>\n",
       "      <td>81.0</td>\n",
       "      <td>1744.0</td>\n",
       "      <td>210.0</td>\n",
       "      <td>240.0</td>\n",
       "      <td>310.0</td>\n",
       "      <td>550.0</td>\n",
       "      <td>6</td>\n",
       "      <td>12/01/10 00:00:00</td>\n",
       "      <td>Espresso</td>\n",
       "      <td>Decaf Espresso</td>\n",
       "      <td>Decaf</td>\n",
       "    </tr>\n",
       "    <tr>\n",
       "      <th>139</th>\n",
       "      <td>209</td>\n",
       "      <td>California</td>\n",
       "      <td>West</td>\n",
       "      <td>Major Market</td>\n",
       "      <td>321.0</td>\n",
       "      <td>329.0</td>\n",
       "      <td>614.0</td>\n",
       "      <td>247.0</td>\n",
       "      <td>113.0</td>\n",
       "      <td>81.0</td>\n",
       "      <td>1744.0</td>\n",
       "      <td>210.0</td>\n",
       "      <td>240.0</td>\n",
       "      <td>310.0</td>\n",
       "      <td>550.0</td>\n",
       "      <td>6</td>\n",
       "      <td>12/01/11 00:00:00</td>\n",
       "      <td>Espresso</td>\n",
       "      <td>Decaf Espresso</td>\n",
       "      <td>Decaf</td>\n",
       "    </tr>\n",
       "  </tbody>\n",
       "</table>\n",
       "</div>"
      ],
      "text/plain": [
       "     Area Code       State Market   Market Size  Profit  Margin  Sales   COGS  \\\n",
       "131        209  California   West  Major Market  -138.0   -67.0   87.0  154.0   \n",
       "133        209  California   West  Major Market  -131.0   -25.0  109.0  127.0   \n",
       "134        209  California   West  Major Market   276.0   428.0  712.0  284.0   \n",
       "135        209  California   West  Major Market   410.0   428.0  759.0  284.0   \n",
       "138        209  California   West  Major Market   216.0   329.0  576.0  247.0   \n",
       "139        209  California   West  Major Market   321.0   329.0  614.0  247.0   \n",
       "\n",
       "     Total Expenses  Marketing  Inventory  Budget Profit  Budget COGS  \\\n",
       "131            71.0       49.0     1832.0         -150.0        190.0   \n",
       "133            63.0       40.0     2947.0          -90.0        150.0   \n",
       "134           152.0       99.0     2108.0          400.0        350.0   \n",
       "135           152.0       99.0     2108.0          400.0        350.0   \n",
       "138           113.0       81.0     1744.0          210.0        240.0   \n",
       "139           113.0       81.0     1744.0          210.0        240.0   \n",
       "\n",
       "     Budget Margin  Budget Sales  ProductId               Date Product Type  \\\n",
       "131          -90.0         100.0          1  07/01/10 00:00:00       Coffee   \n",
       "133          -30.0         120.0          1  12/01/11 00:00:00       Coffee   \n",
       "134          540.0         890.0          2  04/01/10 00:00:00       Coffee   \n",
       "135          540.0         890.0          2  04/01/11 00:00:00       Coffee   \n",
       "138          310.0         550.0          6  12/01/10 00:00:00     Espresso   \n",
       "139          310.0         550.0          6  12/01/11 00:00:00     Espresso   \n",
       "\n",
       "            Product     Type  \n",
       "131        Amaretto  Regular  \n",
       "133        Amaretto  Regular  \n",
       "134       Columbian  Regular  \n",
       "135       Columbian  Regular  \n",
       "138  Decaf Espresso    Decaf  \n",
       "139  Decaf Espresso    Decaf  "
      ]
     },
     "execution_count": 32,
     "metadata": {},
     "output_type": "execute_result"
    }
   ],
   "source": [
    "sales_2.head(6)"
   ]
  },
  {
   "cell_type": "code",
   "execution_count": 34,
   "id": "c27cfb6f",
   "metadata": {},
   "outputs": [
    {
     "name": "stderr",
     "output_type": "stream",
     "text": [
      "C:\\ProgramData\\anaconda3\\Lib\\site-packages\\seaborn\\axisgrid.py:118: UserWarning: The figure layout has changed to tight\n",
      "  self._figure.tight_layout(*args, **kwargs)\n"
     ]
    },
    {
     "data": {
      "image/png": "[encoded data removed]",
      "text/plain": [
       "<Figure size 500x500 with 1 Axes>"
      ]
     },
     "metadata": {},
     "output_type": "display_data"
    }
   ],
   "source": [
    "## checking the distribution of the profit column\n",
    "\n",
    "sns.displot(sales_2[\"Profit\"])\n",
    "plt.grid(True)\n",
    "plt.show()"
   ]
  },
  {
   "cell_type": "code",
   "execution_count": 35,
   "id": "c3be50ae",
   "metadata": {},
   "outputs": [
    {
     "data": {
      "text/plain": [
       "DescribeResult(nobs=346, minmax=(-638.0, 778.0), mean=107.58381502890174, variance=69609.19440395408, skewness=-0.47035065422294814, kurtosis=-0.020415792961673507)"
      ]
     },
     "execution_count": 35,
     "metadata": {},
     "output_type": "execute_result"
    }
   ],
   "source": [
    "describe(sales_2[\"Profit\"])"
   ]
  },
  {
   "cell_type": "code",
   "execution_count": 65,
   "id": "ea8fbe31",
   "metadata": {},
   "outputs": [
    {
     "data": {
      "text/html": [
       "<div>\n",
       "<style scoped>\n",
       "    .dataframe tbody tr th:only-of-type {\n",
       "        vertical-align: middle;\n",
       "    }\n",
       "\n",
       "    .dataframe tbody tr th {\n",
       "        vertical-align: top;\n",
       "    }\n",
       "\n",
       "    .dataframe thead th {\n",
       "        text-align: right;\n",
       "    }\n",
       "</style>\n",
       "<table border=\"1\" class=\"dataframe\">\n",
       "  <thead>\n",
       "    <tr style=\"text-align: right;\">\n",
       "      <th></th>\n",
       "      <th>Profit</th>\n",
       "      <th>Margin</th>\n",
       "      <th>Sales</th>\n",
       "      <th>COGS</th>\n",
       "      <th>Total Expenses</th>\n",
       "      <th>Marketing</th>\n",
       "      <th>Inventory</th>\n",
       "      <th>Budget Profit</th>\n",
       "      <th>Budget COGS</th>\n",
       "      <th>Budget Margin</th>\n",
       "      <th>Budget Sales</th>\n",
       "      <th>ProductId</th>\n",
       "    </tr>\n",
       "  </thead>\n",
       "  <tbody>\n",
       "    <tr>\n",
       "      <th>131</th>\n",
       "      <td>-138.0</td>\n",
       "      <td>-67.0</td>\n",
       "      <td>87.0</td>\n",
       "      <td>154.0</td>\n",
       "      <td>71.0</td>\n",
       "      <td>49.0</td>\n",
       "      <td>1832.0</td>\n",
       "      <td>-150.0</td>\n",
       "      <td>190.0</td>\n",
       "      <td>-90.0</td>\n",
       "      <td>100.0</td>\n",
       "      <td>1</td>\n",
       "    </tr>\n",
       "    <tr>\n",
       "      <th>133</th>\n",
       "      <td>-131.0</td>\n",
       "      <td>-25.0</td>\n",
       "      <td>109.0</td>\n",
       "      <td>127.0</td>\n",
       "      <td>63.0</td>\n",
       "      <td>40.0</td>\n",
       "      <td>2947.0</td>\n",
       "      <td>-90.0</td>\n",
       "      <td>150.0</td>\n",
       "      <td>-30.0</td>\n",
       "      <td>120.0</td>\n",
       "      <td>1</td>\n",
       "    </tr>\n",
       "    <tr>\n",
       "      <th>134</th>\n",
       "      <td>276.0</td>\n",
       "      <td>428.0</td>\n",
       "      <td>712.0</td>\n",
       "      <td>284.0</td>\n",
       "      <td>152.0</td>\n",
       "      <td>99.0</td>\n",
       "      <td>2108.0</td>\n",
       "      <td>400.0</td>\n",
       "      <td>350.0</td>\n",
       "      <td>540.0</td>\n",
       "      <td>890.0</td>\n",
       "      <td>2</td>\n",
       "    </tr>\n",
       "    <tr>\n",
       "      <th>135</th>\n",
       "      <td>410.0</td>\n",
       "      <td>428.0</td>\n",
       "      <td>759.0</td>\n",
       "      <td>284.0</td>\n",
       "      <td>152.0</td>\n",
       "      <td>99.0</td>\n",
       "      <td>2108.0</td>\n",
       "      <td>400.0</td>\n",
       "      <td>350.0</td>\n",
       "      <td>540.0</td>\n",
       "      <td>890.0</td>\n",
       "      <td>2</td>\n",
       "    </tr>\n",
       "    <tr>\n",
       "      <th>138</th>\n",
       "      <td>216.0</td>\n",
       "      <td>329.0</td>\n",
       "      <td>576.0</td>\n",
       "      <td>247.0</td>\n",
       "      <td>113.0</td>\n",
       "      <td>81.0</td>\n",
       "      <td>1744.0</td>\n",
       "      <td>210.0</td>\n",
       "      <td>240.0</td>\n",
       "      <td>310.0</td>\n",
       "      <td>550.0</td>\n",
       "      <td>6</td>\n",
       "    </tr>\n",
       "    <tr>\n",
       "      <th>...</th>\n",
       "      <td>...</td>\n",
       "      <td>...</td>\n",
       "      <td>...</td>\n",
       "      <td>...</td>\n",
       "      <td>...</td>\n",
       "      <td>...</td>\n",
       "      <td>...</td>\n",
       "      <td>...</td>\n",
       "      <td>...</td>\n",
       "      <td>...</td>\n",
       "      <td>...</td>\n",
       "      <td>...</td>\n",
       "    </tr>\n",
       "    <tr>\n",
       "      <th>4198</th>\n",
       "      <td>324.0</td>\n",
       "      <td>379.0</td>\n",
       "      <td>454.0</td>\n",
       "      <td>75.0</td>\n",
       "      <td>55.0</td>\n",
       "      <td>24.0</td>\n",
       "      <td>-3287.0</td>\n",
       "      <td>300.0</td>\n",
       "      <td>60.0</td>\n",
       "      <td>340.0</td>\n",
       "      <td>400.0</td>\n",
       "      <td>2</td>\n",
       "    </tr>\n",
       "    <tr>\n",
       "      <th>4199</th>\n",
       "      <td>778.0</td>\n",
       "      <td>613.0</td>\n",
       "      <td>659.0</td>\n",
       "      <td>52.0</td>\n",
       "      <td>46.0</td>\n",
       "      <td>17.0</td>\n",
       "      <td>-1493.0</td>\n",
       "      <td>560.0</td>\n",
       "      <td>40.0</td>\n",
       "      <td>590.0</td>\n",
       "      <td>630.0</td>\n",
       "      <td>2</td>\n",
       "    </tr>\n",
       "    <tr>\n",
       "      <th>4243</th>\n",
       "      <td>-6.0</td>\n",
       "      <td>66.0</td>\n",
       "      <td>113.0</td>\n",
       "      <td>47.0</td>\n",
       "      <td>72.0</td>\n",
       "      <td>42.0</td>\n",
       "      <td>-395.0</td>\n",
       "      <td>0.0</td>\n",
       "      <td>40.0</td>\n",
       "      <td>50.0</td>\n",
       "      <td>90.0</td>\n",
       "      <td>4</td>\n",
       "    </tr>\n",
       "    <tr>\n",
       "      <th>4244</th>\n",
       "      <td>-7.0</td>\n",
       "      <td>61.0</td>\n",
       "      <td>105.0</td>\n",
       "      <td>44.0</td>\n",
       "      <td>68.0</td>\n",
       "      <td>39.0</td>\n",
       "      <td>-508.0</td>\n",
       "      <td>10.0</td>\n",
       "      <td>30.0</td>\n",
       "      <td>60.0</td>\n",
       "      <td>90.0</td>\n",
       "      <td>4</td>\n",
       "    </tr>\n",
       "    <tr>\n",
       "      <th>4245</th>\n",
       "      <td>-3.0</td>\n",
       "      <td>76.0</td>\n",
       "      <td>131.0</td>\n",
       "      <td>55.0</td>\n",
       "      <td>79.0</td>\n",
       "      <td>49.0</td>\n",
       "      <td>-1053.0</td>\n",
       "      <td>0.0</td>\n",
       "      <td>40.0</td>\n",
       "      <td>60.0</td>\n",
       "      <td>100.0</td>\n",
       "      <td>4</td>\n",
       "    </tr>\n",
       "  </tbody>\n",
       "</table>\n",
       "<p>346 rows × 12 columns</p>\n",
       "</div>"
      ],
      "text/plain": [
       "      Profit  Margin  Sales   COGS  Total Expenses  Marketing  Inventory  \\\n",
       "131   -138.0   -67.0   87.0  154.0            71.0       49.0     1832.0   \n",
       "133   -131.0   -25.0  109.0  127.0            63.0       40.0     2947.0   \n",
       "134    276.0   428.0  712.0  284.0           152.0       99.0     2108.0   \n",
       "135    410.0   428.0  759.0  284.0           152.0       99.0     2108.0   \n",
       "138    216.0   329.0  576.0  247.0           113.0       81.0     1744.0   \n",
       "...      ...     ...    ...    ...             ...        ...        ...   \n",
       "4198   324.0   379.0  454.0   75.0            55.0       24.0    -3287.0   \n",
       "4199   778.0   613.0  659.0   52.0            46.0       17.0    -1493.0   \n",
       "4243    -6.0    66.0  113.0   47.0            72.0       42.0     -395.0   \n",
       "4244    -7.0    61.0  105.0   44.0            68.0       39.0     -508.0   \n",
       "4245    -3.0    76.0  131.0   55.0            79.0       49.0    -1053.0   \n",
       "\n",
       "      Budget Profit  Budget COGS  Budget Margin  Budget Sales  ProductId  \n",
       "131          -150.0        190.0          -90.0         100.0          1  \n",
       "133           -90.0        150.0          -30.0         120.0          1  \n",
       "134           400.0        350.0          540.0         890.0          2  \n",
       "135           400.0        350.0          540.0         890.0          2  \n",
       "138           210.0        240.0          310.0         550.0          6  \n",
       "...             ...          ...            ...           ...        ...  \n",
       "4198          300.0         60.0          340.0         400.0          2  \n",
       "4199          560.0         40.0          590.0         630.0          2  \n",
       "4243            0.0         40.0           50.0          90.0          4  \n",
       "4244           10.0         30.0           60.0          90.0          4  \n",
       "4245            0.0         40.0           60.0         100.0          4  \n",
       "\n",
       "[346 rows x 12 columns]"
      ]
     },
     "execution_count": 65,
     "metadata": {},
     "output_type": "execute_result"
    }
   ],
   "source": [
    "## dropping all string and irrelevant columns\n",
    "\n",
    "df = sales_2.drop(columns = [\"Area Code\", \"State\", \"Market\", \"Market Size\", \"Date\", \"Product Type\", \"Product\", \"Type\"])\n",
    "df"
   ]
  },
  {
   "cell_type": "code",
   "execution_count": 37,
   "id": "28ff89e4",
   "metadata": {},
   "outputs": [],
   "source": [
    "## loading the reuired functions for testing \n",
    "\n",
    "from sklearn.model_selection import train_test_split\n",
    "from sklearn.linear_model import LinearRegression"
   ]
  },
  {
   "cell_type": "code",
   "execution_count": 39,
   "id": "d8d6c6f0",
   "metadata": {},
   "outputs": [],
   "source": [
    "## idefining the d.v and i.v\n",
    "\n",
    "X = df.drop(columns = [\"Profit\"])\n",
    "y = df[\"Profit\"]"
   ]
  },
  {
   "cell_type": "code",
   "execution_count": 40,
   "id": "84433252",
   "metadata": {},
   "outputs": [],
   "source": [
    "## dividing the dataset into training and testing sizes\n",
    "\n",
    "X_train, X_test, y_train, y_test = train_test_split(X, y, test_size=0.3, random_state=50)"
   ]
  },
  {
   "cell_type": "code",
   "execution_count": 41,
   "id": "5c25658d",
   "metadata": {},
   "outputs": [],
   "source": [
    "## loading the linear regression model\n",
    "\n",
    "lr = LinearRegression()"
   ]
  },
  {
   "cell_type": "code",
   "execution_count": 43,
   "id": "60514acd",
   "metadata": {},
   "outputs": [
    {
     "data": {
      "text/html": [
       "<style>#sk-container-id-1 {color: black;}#sk-container-id-1 pre{padding: 0;}#sk-container-id-1 div.sk-toggleable {background-color: white;}#sk-container-id-1 label.sk-toggleable__label {cursor: pointer;display: block;width: 100%;margin-bottom: 0;padding: 0.3em;box-sizing: border-box;text-align: center;}#sk-container-id-1 label.sk-toggleable__label-arrow:before {content: \"▸\";float: left;margin-right: 0.25em;color: #696969;}#sk-container-id-1 label.sk-toggleable__label-arrow:hover:before {color: black;}#sk-container-id-1 div.sk-estimator:hover label.sk-toggleable__label-arrow:before {color: black;}#sk-container-id-1 div.sk-toggleable__content {max-height: 0;max-width: 0;overflow: hidden;text-align: left;background-color: #f0f8ff;}#sk-container-id-1 div.sk-toggleable__content pre {margin: 0.2em;color: black;border-radius: 0.25em;background-color: #f0f8ff;}#sk-container-id-1 input.sk-toggleable__control:checked~div.sk-toggleable__content {max-height: 200px;max-width: 100%;overflow: auto;}#sk-container-id-1 input.sk-toggleable__control:checked~label.sk-toggleable__label-arrow:before {content: \"▾\";}#sk-container-id-1 div.sk-estimator input.sk-toggleable__control:checked~label.sk-toggleable__label {background-color: #d4ebff;}#sk-container-id-1 div.sk-label input.sk-toggleable__control:checked~label.sk-toggleable__label {background-color: #d4ebff;}#sk-container-id-1 input.sk-hidden--visually {border: 0;clip: rect(1px 1px 1px 1px);clip: rect(1px, 1px, 1px, 1px);height: 1px;margin: -1px;overflow: hidden;padding: 0;position: absolute;width: 1px;}#sk-container-id-1 div.sk-estimator {font-family: monospace;background-color: #f0f8ff;border: 1px dotted black;border-radius: 0.25em;box-sizing: border-box;margin-bottom: 0.5em;}#sk-container-id-1 div.sk-estimator:hover {background-color: #d4ebff;}#sk-container-id-1 div.sk-parallel-item::after {content: \"\";width: 100%;border-bottom: 1px solid gray;flex-grow: 1;}#sk-container-id-1 div.sk-label:hover label.sk-toggleable__label {background-color: #d4ebff;}#sk-container-id-1 div.sk-serial::before {content: \"\";position: absolute;border-left: 1px solid gray;box-sizing: border-box;top: 0;bottom: 0;left: 50%;z-index: 0;}#sk-container-id-1 div.sk-serial {display: flex;flex-direction: column;align-items: center;background-color: white;padding-right: 0.2em;padding-left: 0.2em;position: relative;}#sk-container-id-1 div.sk-item {position: relative;z-index: 1;}#sk-container-id-1 div.sk-parallel {display: flex;align-items: stretch;justify-content: center;background-color: white;position: relative;}#sk-container-id-1 div.sk-item::before, #sk-container-id-1 div.sk-parallel-item::before {content: \"\";position: absolute;border-left: 1px solid gray;box-sizing: border-box;top: 0;bottom: 0;left: 50%;z-index: -1;}#sk-container-id-1 div.sk-parallel-item {display: flex;flex-direction: column;z-index: 1;position: relative;background-color: white;}#sk-container-id-1 div.sk-parallel-item:first-child::after {align-self: flex-end;width: 50%;}#sk-container-id-1 div.sk-parallel-item:last-child::after {align-self: flex-start;width: 50%;}#sk-container-id-1 div.sk-parallel-item:only-child::after {width: 0;}#sk-container-id-1 div.sk-dashed-wrapped {border: 1px dashed gray;margin: 0 0.4em 0.5em 0.4em;box-sizing: border-box;padding-bottom: 0.4em;background-color: white;}#sk-container-id-1 div.sk-label label {font-family: monospace;font-weight: bold;display: inline-block;line-height: 1.2em;}#sk-container-id-1 div.sk-label-container {text-align: center;}#sk-container-id-1 div.sk-container {/* jupyter's `normalize.less` sets `[hidden] { display: none; }` but bootstrap.min.css set `[hidden] { display: none !important; }` so we also need the `!important` here to be able to override the default hidden behavior on the sphinx rendered scikit-learn.org. See: https://github.com/scikit-learn/scikit-learn/issues/21755 */display: inline-block !important;position: relative;}#sk-container-id-1 div.sk-text-repr-fallback {display: none;}</style><div id=\"sk-container-id-1\" class=\"sk-top-container\"><div class=\"sk-text-repr-fallback\"><pre>LinearRegression()</pre><b>In a Jupyter environment, please rerun this cell to show the HTML representation or trust the notebook. <br />On GitHub, the HTML representation is unable to render, please try loading this page with nbviewer.org.</b></div><div class=\"sk-container\" hidden><div class=\"sk-item\"><div class=\"sk-estimator sk-toggleable\"><input class=\"sk-toggleable__control sk-hidden--visually\" id=\"sk-estimator-id-1\" type=\"checkbox\" checked><label for=\"sk-estimator-id-1\" class=\"sk-toggleable__label sk-toggleable__label-arrow\">LinearRegression</label><div class=\"sk-toggleable__content\"><pre>LinearRegression()</pre></div></div></div></div></div>"
      ],
      "text/plain": [
       "LinearRegression()"
      ]
     },
     "execution_count": 43,
     "metadata": {},
     "output_type": "execute_result"
    }
   ],
   "source": [
    "## fiting the model with the training data\n",
    "\n",
    "lr.fit(X_train,y_train)"
   ]
  },
  {
   "cell_type": "code",
   "execution_count": 44,
   "id": "1ed7a3db",
   "metadata": {},
   "outputs": [
    {
     "name": "stdout",
     "output_type": "stream",
     "text": [
      "40.25591520184577\n"
     ]
    }
   ],
   "source": [
    "## printing the intercepts\n",
    "\n",
    "print(lr.intercept_)"
   ]
  },
  {
   "cell_type": "code",
   "execution_count": 54,
   "id": "9409fdc3",
   "metadata": {},
   "outputs": [
    {
     "data": {
      "text/html": [
       "<div>\n",
       "<style scoped>\n",
       "    .dataframe tbody tr th:only-of-type {\n",
       "        vertical-align: middle;\n",
       "    }\n",
       "\n",
       "    .dataframe tbody tr th {\n",
       "        vertical-align: top;\n",
       "    }\n",
       "\n",
       "    .dataframe thead th {\n",
       "        text-align: right;\n",
       "    }\n",
       "</style>\n",
       "<table border=\"1\" class=\"dataframe\">\n",
       "  <thead>\n",
       "    <tr style=\"text-align: right;\">\n",
       "      <th></th>\n",
       "      <th>Margin</th>\n",
       "      <th>Sales</th>\n",
       "      <th>COGS</th>\n",
       "      <th>Total Expenses</th>\n",
       "      <th>Marketing</th>\n",
       "      <th>Inventory</th>\n",
       "      <th>Budget Profit</th>\n",
       "      <th>Budget COGS</th>\n",
       "      <th>Budget Margin</th>\n",
       "      <th>Budget Sales</th>\n",
       "      <th>ProductId</th>\n",
       "    </tr>\n",
       "  </thead>\n",
       "  <tbody>\n",
       "    <tr>\n",
       "      <th>Coefficients</th>\n",
       "      <td>-0.871025</td>\n",
       "      <td>2.036271</td>\n",
       "      <td>-1.94815</td>\n",
       "      <td>-2.653646</td>\n",
       "      <td>1.278819</td>\n",
       "      <td>0.002448</td>\n",
       "      <td>-0.266539</td>\n",
       "      <td>-0.204025</td>\n",
       "      <td>0.260101</td>\n",
       "      <td>0.056076</td>\n",
       "      <td>-2.891383</td>\n",
       "    </tr>\n",
       "  </tbody>\n",
       "</table>\n",
       "</div>"
      ],
      "text/plain": [
       "                Margin     Sales     COGS  Total Expenses  Marketing  \\\n",
       "Coefficients -0.871025  2.036271 -1.94815       -2.653646   1.278819   \n",
       "\n",
       "              Inventory  Budget Profit  Budget COGS  Budget Margin  \\\n",
       "Coefficients   0.002448      -0.266539    -0.204025       0.260101   \n",
       "\n",
       "              Budget Sales  ProductId  \n",
       "Coefficients      0.056076  -2.891383  "
      ]
     },
     "execution_count": 54,
     "metadata": {},
     "output_type": "execute_result"
    }
   ],
   "source": [
    "## printing the coefficients\n",
    "\n",
    "coefficients = pd.DataFrame(lr.coef_, X_train.columns).T\n",
    "coefficients = coefficients.rename({0: \"Coefficients\"})\n",
    "coefficients"
   ]
  },
  {
   "cell_type": "code",
   "execution_count": 57,
   "id": "8b2ed374",
   "metadata": {},
   "outputs": [
    {
     "data": {
      "text/plain": [
       "array([ 252.65243462,  237.91642047, -419.04467978, -203.53028478,\n",
       "        341.16754483,  164.2009601 ,  -34.97522682,  256.85737365,\n",
       "        159.05326911,  -42.57464467,  205.25168718,  168.22309214,\n",
       "        242.78778596,  266.93385857,  237.08273016,   -7.99977281,\n",
       "        -74.00560376,  250.99693444,  -68.81451275,  189.00796908,\n",
       "        327.51234706,  334.45486569,  193.08315128,  178.25502552,\n",
       "        237.76499356,   24.38849127,  220.27911906,  394.67616005,\n",
       "        257.68043141,  140.19699403,  -82.8234699 ,  298.91310716,\n",
       "         71.87239151,  317.93805737,  -58.86481315,  296.63732487,\n",
       "         21.1543165 ,  120.74710746,  444.48060316, -239.05090136,\n",
       "        548.614029  , -375.47553525,  182.29293663, -297.99904613,\n",
       "       -174.81572519,   21.47498853,  181.57339225,  451.05112478,\n",
       "        136.06756163,  186.64918983,  313.68119689,  218.95314281,\n",
       "       -170.60819994,  287.95923214,  309.43105313,   -5.07108753,\n",
       "       -247.19598559,  217.71898997,  201.87862499,  396.49599228,\n",
       "        229.31209706, -171.30407498,  182.94590917,  195.97522273,\n",
       "       -153.75184957,  666.02826617,  431.92499888,   90.20304158,\n",
       "        292.77002085,  309.53689069,   -9.61669701, -219.46216725,\n",
       "        -26.3983432 , -474.27686275,  232.05087758,    8.98981367,\n",
       "        323.94646848,  311.18050434,  251.11692391,  239.00478491,\n",
       "        344.70332127, -524.0535731 ,  257.2341682 ,  189.91370324,\n",
       "       -195.76346273,  305.56928386,  -31.5645373 ,  249.74866937,\n",
       "        206.7076748 ,  366.72536871,  181.51953893,   -9.33662586,\n",
       "       -167.7972792 ,   -7.45787345,  290.20385924,  282.31929286,\n",
       "       -460.44326027,  345.48473442, -435.21968   ,   28.24362912,\n",
       "        252.9779804 ,  137.15740015,  228.19098362,  299.51531977])"
      ]
     },
     "execution_count": 57,
     "metadata": {},
     "output_type": "execute_result"
    }
   ],
   "source": [
    "## predicting the model\n",
    "\n",
    "pred = lr.predict(X_test)\n",
    "pred"
   ]
  },
  {
   "cell_type": "code",
   "execution_count": 56,
   "id": "08c70f25",
   "metadata": {},
   "outputs": [
    {
     "data": {
      "image/png": "[encoded data removed]",
      "text/plain": [
       "<Figure size 700x700 with 1 Axes>"
      ]
     },
     "metadata": {},
     "output_type": "display_data"
    }
   ],
   "source": [
    "## plotting the results\n",
    "\n",
    "plt.figure(figsize = (7,7))\n",
    "plt.scatter(y_test, pred)\n",
    "plt.xlabel(\"Actual Values\")\n",
    "plt.ylabel(\"Predicted Values\")\n",
    "plt.grid(True)\n",
    "plt.title(\"Actual vs Predicted Values\")\n",
    "plt.show()"
   ]
  },
  {
   "cell_type": "code",
   "execution_count": 64,
   "id": "5c44aa56",
   "metadata": {},
   "outputs": [
    {
     "name": "stdout",
     "output_type": "stream",
     "text": [
      "R^2: 0.9723347130327628\n",
      "Homogeneity Score: 1.0\n",
      "MAE: 29.332708701717216\n",
      "MSE: 1581.2275245289431\n",
      "RMSE 39.76465169631118\n",
      "Adjusted R^2: 1.3043181566396096\n"
     ]
    },
    {
     "name": "stderr",
     "output_type": "stream",
     "text": [
      "C:\\ProgramData\\anaconda3\\Lib\\site-packages\\sklearn\\metrics\\cluster\\_supervised.py:66: UserWarning: Clustering metrics expects discrete values but received multiclass values for label, and continuous values for target\n",
      "  warnings.warn(msg, UserWarning)\n"
     ]
    }
   ],
   "source": [
    "## Linear Regression metrics\n",
    "\n",
    "from sklearn.metrics import r2_score\n",
    "from sklearn.metrics import homogeneity_score\n",
    "from sklearn.metrics import mean_absolute_error\n",
    "from sklearn.metrics import mean_squared_error\n",
    "from sklearn.metrics import mean_poisson_deviance\n",
    "\n",
    "print(\"R^2:\" , r2_score(y_test, pred))\n",
    "print(\"Homogeneity Score:\", homogeneity_score(y_test, pred))\n",
    "print(\"MAE:\", mean_absolute_error(y_test, pred))\n",
    "print(\"MSE:\", mean_squared_error(y_test, pred))\n",
    "print(\"RMSE\", np.sqrt(mean_squared_error(y_test, pred)))\n",
    "print(\"Adjusted R^2:\", 1 - (1 - r2_score(y_test, pred)) * (len(y_train - 1) / len(y_train) - X_train.shape[1]-1))"
   ]
  },
  {
   "cell_type": "code",
   "execution_count": 61,
   "id": "92f89c8a",
   "metadata": {},
   "outputs": [],
   "source": [
    "## Checking if the model is overfitting \n",
    "\n",
    "y_test_pred = lr.predict(X_test)"
   ]
  },
  {
   "cell_type": "code",
   "execution_count": 62,
   "id": "bc42a0ab",
   "metadata": {},
   "outputs": [
    {
     "name": "stdout",
     "output_type": "stream",
     "text": [
      "R^2: 0.9723347130327628\n",
      "Homogeneity Score: 1.0\n",
      "MAE: 29.332708701717216\n",
      "MSE: 1581.2275245289431\n",
      "RMSE 39.76465169631118\n",
      "Adjusted R^2: 1.3043181566396096\n"
     ]
    },
    {
     "name": "stderr",
     "output_type": "stream",
     "text": [
      "C:\\ProgramData\\anaconda3\\Lib\\site-packages\\sklearn\\metrics\\cluster\\_supervised.py:66: UserWarning: Clustering metrics expects discrete values but received multiclass values for label, and continuous values for target\n",
      "  warnings.warn(msg, UserWarning)\n"
     ]
    }
   ],
   "source": [
    "## model evaluation for overfitting data\n",
    "\n",
    "from sklearn.metrics import r2_score\n",
    "from sklearn.metrics import homogeneity_score\n",
    "from sklearn.metrics import mean_absolute_error\n",
    "from sklearn.metrics import mean_squared_error\n",
    "from sklearn.metrics import mean_poisson_deviance\n",
    "\n",
    "print(\"R^2:\" , r2_score(y_test, pred))\n",
    "print(\"Homogeneity Score:\", homogeneity_score(y_test, y_test_pred))\n",
    "print(\"MAE:\", mean_absolute_error(y_test, y_test_pred))\n",
    "print(\"MSE:\", mean_squared_error(y_test, y_test_pred))\n",
    "print(\"RMSE\", np.sqrt(mean_squared_error(y_test, y_test_pred)))\n",
    "print(\"Adjusted R^2:\", 1 - (1 - r2_score(y_test, y_test_pred)) * (len(y_test - 1) / len(y_test) - X_test.shape[1]-1))"
   ]
  },
  {
   "cell_type": "markdown",
   "id": "6f552ef3",
   "metadata": {},
   "source": [
    "#### The model has an accuracy of 130% and the model evaluation scores for the test data is not differing much with that of the training data hence the model is a good predictor of profit."
   ]
  },
  {
   "cell_type": "markdown",
   "id": "b7fb30a3",
   "metadata": {},
   "source": [
    "#### 2. Random Forest Regressor"
   ]
  },
  {
   "cell_type": "code",
   "execution_count": 66,
   "id": "ffa608d1",
   "metadata": {},
   "outputs": [],
   "source": [
    "## Iporting the random forst regressor\n",
    "\n",
    "from sklearn.ensemble import RandomForestRegressor"
   ]
  },
  {
   "cell_type": "code",
   "execution_count": 67,
   "id": "b989841e",
   "metadata": {},
   "outputs": [],
   "source": [
    "## defining the regressor\n",
    "\n",
    "rc = RandomForestRegressor()"
   ]
  },
  {
   "cell_type": "code",
   "execution_count": 68,
   "id": "f6cb088f",
   "metadata": {},
   "outputs": [
    {
     "data": {
      "text/html": [
       "<style>#sk-container-id-2 {color: black;}#sk-container-id-2 pre{padding: 0;}#sk-container-id-2 div.sk-toggleable {background-color: white;}#sk-container-id-2 label.sk-toggleable__label {cursor: pointer;display: block;width: 100%;margin-bottom: 0;padding: 0.3em;box-sizing: border-box;text-align: center;}#sk-container-id-2 label.sk-toggleable__label-arrow:before {content: \"▸\";float: left;margin-right: 0.25em;color: #696969;}#sk-container-id-2 label.sk-toggleable__label-arrow:hover:before {color: black;}#sk-container-id-2 div.sk-estimator:hover label.sk-toggleable__label-arrow:before {color: black;}#sk-container-id-2 div.sk-toggleable__content {max-height: 0;max-width: 0;overflow: hidden;text-align: left;background-color: #f0f8ff;}#sk-container-id-2 div.sk-toggleable__content pre {margin: 0.2em;color: black;border-radius: 0.25em;background-color: #f0f8ff;}#sk-container-id-2 input.sk-toggleable__control:checked~div.sk-toggleable__content {max-height: 200px;max-width: 100%;overflow: auto;}#sk-container-id-2 input.sk-toggleable__control:checked~label.sk-toggleable__label-arrow:before {content: \"▾\";}#sk-container-id-2 div.sk-estimator input.sk-toggleable__control:checked~label.sk-toggleable__label {background-color: #d4ebff;}#sk-container-id-2 div.sk-label input.sk-toggleable__control:checked~label.sk-toggleable__label {background-color: #d4ebff;}#sk-container-id-2 input.sk-hidden--visually {border: 0;clip: rect(1px 1px 1px 1px);clip: rect(1px, 1px, 1px, 1px);height: 1px;margin: -1px;overflow: hidden;padding: 0;position: absolute;width: 1px;}#sk-container-id-2 div.sk-estimator {font-family: monospace;background-color: #f0f8ff;border: 1px dotted black;border-radius: 0.25em;box-sizing: border-box;margin-bottom: 0.5em;}#sk-container-id-2 div.sk-estimator:hover {background-color: #d4ebff;}#sk-container-id-2 div.sk-parallel-item::after {content: \"\";width: 100%;border-bottom: 1px solid gray;flex-grow: 1;}#sk-container-id-2 div.sk-label:hover label.sk-toggleable__label {background-color: #d4ebff;}#sk-container-id-2 div.sk-serial::before {content: \"\";position: absolute;border-left: 1px solid gray;box-sizing: border-box;top: 0;bottom: 0;left: 50%;z-index: 0;}#sk-container-id-2 div.sk-serial {display: flex;flex-direction: column;align-items: center;background-color: white;padding-right: 0.2em;padding-left: 0.2em;position: relative;}#sk-container-id-2 div.sk-item {position: relative;z-index: 1;}#sk-container-id-2 div.sk-parallel {display: flex;align-items: stretch;justify-content: center;background-color: white;position: relative;}#sk-container-id-2 div.sk-item::before, #sk-container-id-2 div.sk-parallel-item::before {content: \"\";position: absolute;border-left: 1px solid gray;box-sizing: border-box;top: 0;bottom: 0;left: 50%;z-index: -1;}#sk-container-id-2 div.sk-parallel-item {display: flex;flex-direction: column;z-index: 1;position: relative;background-color: white;}#sk-container-id-2 div.sk-parallel-item:first-child::after {align-self: flex-end;width: 50%;}#sk-container-id-2 div.sk-parallel-item:last-child::after {align-self: flex-start;width: 50%;}#sk-container-id-2 div.sk-parallel-item:only-child::after {width: 0;}#sk-container-id-2 div.sk-dashed-wrapped {border: 1px dashed gray;margin: 0 0.4em 0.5em 0.4em;box-sizing: border-box;padding-bottom: 0.4em;background-color: white;}#sk-container-id-2 div.sk-label label {font-family: monospace;font-weight: bold;display: inline-block;line-height: 1.2em;}#sk-container-id-2 div.sk-label-container {text-align: center;}#sk-container-id-2 div.sk-container {/* jupyter's `normalize.less` sets `[hidden] { display: none; }` but bootstrap.min.css set `[hidden] { display: none !important; }` so we also need the `!important` here to be able to override the default hidden behavior on the sphinx rendered scikit-learn.org. See: https://github.com/scikit-learn/scikit-learn/issues/21755 */display: inline-block !important;position: relative;}#sk-container-id-2 div.sk-text-repr-fallback {display: none;}</style><div id=\"sk-container-id-2\" class=\"sk-top-container\"><div class=\"sk-text-repr-fallback\"><pre>RandomForestRegressor()</pre><b>In a Jupyter environment, please rerun this cell to show the HTML representation or trust the notebook. <br />On GitHub, the HTML representation is unable to render, please try loading this page with nbviewer.org.</b></div><div class=\"sk-container\" hidden><div class=\"sk-item\"><div class=\"sk-estimator sk-toggleable\"><input class=\"sk-toggleable__control sk-hidden--visually\" id=\"sk-estimator-id-2\" type=\"checkbox\" checked><label for=\"sk-estimator-id-2\" class=\"sk-toggleable__label sk-toggleable__label-arrow\">RandomForestRegressor</label><div class=\"sk-toggleable__content\"><pre>RandomForestRegressor()</pre></div></div></div></div></div>"
      ],
      "text/plain": [
       "RandomForestRegressor()"
      ]
     },
     "execution_count": 68,
     "metadata": {},
     "output_type": "execute_result"
    }
   ],
   "source": [
    "## fitting the model \n",
    "\n",
    "rc.fit(X_train, y_train)"
   ]
  },
  {
   "cell_type": "code",
   "execution_count": 69,
   "id": "8dcc9785",
   "metadata": {},
   "outputs": [
    {
     "data": {
      "text/plain": [
       "array([ 385.99,    1.99,  497.94,  167.98, -414.03, -136.17,   -2.57,\n",
       "        208.6 ,   -6.28,  -98.97,  273.02,  -10.71,  291.62,  325.7 ,\n",
       "        -15.87,  305.13,  267.7 ,  343.55, -495.66,   -9.35, -448.97,\n",
       "         20.34,  321.73,  -13.46,  503.73,   -8.49,  268.85,  269.76,\n",
       "       -393.68,  268.2 , -277.92,  387.6 ,  232.18,  -12.73,  324.92,\n",
       "        292.11, -334.01,  506.95,  231.36,  564.21,   50.27, -488.94,\n",
       "         -8.1 ,  637.32,  221.02,  182.11,  328.86,  135.49, -153.73,\n",
       "         58.76,  206.71,   16.25,  219.48,  148.89, -135.58,    3.51,\n",
       "        219.57, -384.62, -163.6 , -458.6 ,  227.68,  346.99,  743.72,\n",
       "        167.71, -150.77,  317.4 , -407.34,   97.09,  266.21,   65.81,\n",
       "       -247.53,  484.55,  331.45,   -5.44,  211.48,  228.07, -184.08,\n",
       "        150.73,  378.39,  271.19,  104.27,  425.27, -192.18,  379.47,\n",
       "         44.26, -146.72,   39.66,  167.77,   41.54, -462.17,  541.62,\n",
       "        445.99,   76.95,  395.24,  494.69,  346.14,  158.12,  326.84,\n",
       "         -2.26,  108.94, -539.3 , -298.14,  325.88,  221.84, -220.34,\n",
       "       -181.63,   -5.97,  214.29,  321.49,  157.82, -262.29,  429.52,\n",
       "       -190.39,  170.3 , -443.77,  251.69,  288.8 , -422.42, -173.98,\n",
       "       -169.61,  142.58,  282.26,  221.66,  225.3 ,  234.59,  741.14,\n",
       "       -199.45,   64.11,   45.47,  224.45,  158.74,  331.58, -379.46,\n",
       "       -215.28, -152.4 ,  138.06,  -81.61, -262.81,  -12.33,  430.73,\n",
       "        325.42,  115.7 ,  269.09,  372.31, -219.19, -174.46,  -21.58,\n",
       "        228.01,  228.03,  490.08,  280.3 , -225.52,  -28.37,  227.54,\n",
       "         87.85, -507.46,  177.17,  -25.8 ,   35.49, -353.02,  292.39,\n",
       "        133.51,  164.46,  200.42, -266.76,  -26.81,  158.5 ,  316.3 ,\n",
       "        584.79,  169.96, -212.85, -171.07,  134.07,  221.02,  -37.11,\n",
       "        390.12,  158.03,  282.26,  586.87,  350.63,  538.31,  221.67,\n",
       "        245.39,  373.84,  170.18, -485.61,  273.79,  186.99,  276.6 ,\n",
       "       -351.74,  222.12,  499.49,    2.46,  176.38,  261.6 ,  375.05,\n",
       "       -182.77,  346.88,  213.37, -334.88,  379.5 , -176.88,  326.34,\n",
       "       -166.59,   53.79,  -80.72,  220.45, -146.58, -308.38,  149.63,\n",
       "        487.83,  115.57,  168.33,  443.28,  -11.38,  311.99,  344.33,\n",
       "       -248.52,  107.75,  377.14, -294.11,  294.99, -176.11,  141.38,\n",
       "        206.17,  160.13,  578.51,  156.54,  -11.85, -441.12,  357.47,\n",
       "       -457.88,   14.99, -121.17,   39.88,  346.54,  354.89,  -35.32,\n",
       "         -8.99, -302.86,  388.81, -156.26])"
      ]
     },
     "execution_count": 69,
     "metadata": {},
     "output_type": "execute_result"
    }
   ],
   "source": [
    "## predicting the model\n",
    "\n",
    "pred_rc = rc.predict(X_train)\n",
    "pred_rc"
   ]
  },
  {
   "cell_type": "code",
   "execution_count": 72,
   "id": "d59b8d5d",
   "metadata": {},
   "outputs": [
    {
     "name": "stdout",
     "output_type": "stream",
     "text": [
      "R^2: 0.9944500230343933\n",
      "Homogeneity Score: 0.997751647791779\n",
      "MAE: 14.703719008264464\n",
      "MSE: 413.40633471074386\n",
      "RMSE 20.332396187138\n",
      "Adjusted R^2: 1.0610497466216733\n"
     ]
    },
    {
     "name": "stderr",
     "output_type": "stream",
     "text": [
      "C:\\ProgramData\\anaconda3\\Lib\\site-packages\\sklearn\\metrics\\cluster\\_supervised.py:66: UserWarning: Clustering metrics expects discrete values but received multiclass values for label, and continuous values for target\n",
      "  warnings.warn(msg, UserWarning)\n"
     ]
    }
   ],
   "source": [
    "## Regressor evaluation scores\n",
    "\n",
    "print(\"R^2:\" , r2_score(y_train, pred_rc))\n",
    "print(\"Homogeneity Score:\", homogeneity_score(y_train, pred_rc))\n",
    "print(\"MAE:\", mean_absolute_error(y_train, pred_rc))\n",
    "print(\"MSE:\", mean_squared_error(y_train, pred_rc))\n",
    "print(\"RMSE\", np.sqrt(mean_squared_error(y_train, pred_rc)))\n",
    "print(\"Adjusted R^2:\", 1 - (1 - r2_score(y_train, pred_rc)) * (len(y_train - 1) / len(y_train) - X_train.shape[1]-1))"
   ]
  },
  {
   "cell_type": "code",
   "execution_count": 73,
   "id": "9b66b5c9",
   "metadata": {},
   "outputs": [],
   "source": [
    "## checking if the model is overfitting\n",
    "\n",
    "y_test_pred_rc = rc.predict(X_test)"
   ]
  },
  {
   "cell_type": "code",
   "execution_count": 74,
   "id": "1bc2019b",
   "metadata": {},
   "outputs": [
    {
     "name": "stdout",
     "output_type": "stream",
     "text": [
      "R^2: 0.9553695884843788\n",
      "Homogeneity Score: 0.993832690782629\n",
      "MAE: 31.938942307692308\n",
      "MSE: 2550.8802855769227\n",
      "RMSE 50.506240065727745\n",
      "Adjusted R^2: 1.490934526671833\n"
     ]
    },
    {
     "name": "stderr",
     "output_type": "stream",
     "text": [
      "C:\\ProgramData\\anaconda3\\Lib\\site-packages\\sklearn\\metrics\\cluster\\_supervised.py:66: UserWarning: Clustering metrics expects discrete values but received multiclass values for label, and continuous values for target\n",
      "  warnings.warn(msg, UserWarning)\n"
     ]
    }
   ],
   "source": [
    "print(\"R^2:\" , r2_score(y_test, y_test_pred_rc))\n",
    "print(\"Homogeneity Score:\", homogeneity_score(y_test, y_test_pred_rc))\n",
    "print(\"MAE:\", mean_absolute_error(y_test, y_test_pred_rc))\n",
    "print(\"MSE:\", mean_squared_error(y_test, y_test_pred_rc))\n",
    "print(\"RMSE\", np.sqrt(mean_squared_error(y_test, y_test_pred_rc)))\n",
    "print(\"Adjusted R^2:\", 1 - (1 - r2_score(y_test, y_test_pred_rc)) * (len(y_test - 1) / len(y_test) - X_test.shape[1]-1))"
   ]
  },
  {
   "cell_type": "markdown",
   "id": "e6a4cefb",
   "metadata": {},
   "source": [
    "#### Despite the model's accuracy of 99%, the evaluation scores slighly differ from the evaluation scores of the train data. "
   ]
  },
  {
   "cell_type": "markdown",
   "id": "5e87dfd5",
   "metadata": {},
   "source": [
    "#### 3. XGBoost Regressor"
   ]
  },
  {
   "cell_type": "code",
   "execution_count": 75,
   "id": "fdc3bce3",
   "metadata": {},
   "outputs": [],
   "source": [
    "## importing the regressor\n",
    "\n",
    "from xgboost import XGBRegressor\n",
    "\n",
    "## defining the regressor\n",
    "\n",
    "xgr = XGBRegressor()"
   ]
  },
  {
   "cell_type": "code",
   "execution_count": 76,
   "id": "6696f064",
   "metadata": {},
   "outputs": [
    {
     "data": {
      "text/html": [
       "<style>#sk-container-id-3 {color: black;}#sk-container-id-3 pre{padding: 0;}#sk-container-id-3 div.sk-toggleable {background-color: white;}#sk-container-id-3 label.sk-toggleable__label {cursor: pointer;display: block;width: 100%;margin-bottom: 0;padding: 0.3em;box-sizing: border-box;text-align: center;}#sk-container-id-3 label.sk-toggleable__label-arrow:before {content: \"▸\";float: left;margin-right: 0.25em;color: #696969;}#sk-container-id-3 label.sk-toggleable__label-arrow:hover:before {color: black;}#sk-container-id-3 div.sk-estimator:hover label.sk-toggleable__label-arrow:before {color: black;}#sk-container-id-3 div.sk-toggleable__content {max-height: 0;max-width: 0;overflow: hidden;text-align: left;background-color: #f0f8ff;}#sk-container-id-3 div.sk-toggleable__content pre {margin: 0.2em;color: black;border-radius: 0.25em;background-color: #f0f8ff;}#sk-container-id-3 input.sk-toggleable__control:checked~div.sk-toggleable__content {max-height: 200px;max-width: 100%;overflow: auto;}#sk-container-id-3 input.sk-toggleable__control:checked~label.sk-toggleable__label-arrow:before {content: \"▾\";}#sk-container-id-3 div.sk-estimator input.sk-toggleable__control:checked~label.sk-toggleable__label {background-color: #d4ebff;}#sk-container-id-3 div.sk-label input.sk-toggleable__control:checked~label.sk-toggleable__label {background-color: #d4ebff;}#sk-container-id-3 input.sk-hidden--visually {border: 0;clip: rect(1px 1px 1px 1px);clip: rect(1px, 1px, 1px, 1px);height: 1px;margin: -1px;overflow: hidden;padding: 0;position: absolute;width: 1px;}#sk-container-id-3 div.sk-estimator {font-family: monospace;background-color: #f0f8ff;border: 1px dotted black;border-radius: 0.25em;box-sizing: border-box;margin-bottom: 0.5em;}#sk-container-id-3 div.sk-estimator:hover {background-color: #d4ebff;}#sk-container-id-3 div.sk-parallel-item::after {content: \"\";width: 100%;border-bottom: 1px solid gray;flex-grow: 1;}#sk-container-id-3 div.sk-label:hover label.sk-toggleable__label {background-color: #d4ebff;}#sk-container-id-3 div.sk-serial::before {content: \"\";position: absolute;border-left: 1px solid gray;box-sizing: border-box;top: 0;bottom: 0;left: 50%;z-index: 0;}#sk-container-id-3 div.sk-serial {display: flex;flex-direction: column;align-items: center;background-color: white;padding-right: 0.2em;padding-left: 0.2em;position: relative;}#sk-container-id-3 div.sk-item {position: relative;z-index: 1;}#sk-container-id-3 div.sk-parallel {display: flex;align-items: stretch;justify-content: center;background-color: white;position: relative;}#sk-container-id-3 div.sk-item::before, #sk-container-id-3 div.sk-parallel-item::before {content: \"\";position: absolute;border-left: 1px solid gray;box-sizing: border-box;top: 0;bottom: 0;left: 50%;z-index: -1;}#sk-container-id-3 div.sk-parallel-item {display: flex;flex-direction: column;z-index: 1;position: relative;background-color: white;}#sk-container-id-3 div.sk-parallel-item:first-child::after {align-self: flex-end;width: 50%;}#sk-container-id-3 div.sk-parallel-item:last-child::after {align-self: flex-start;width: 50%;}#sk-container-id-3 div.sk-parallel-item:only-child::after {width: 0;}#sk-container-id-3 div.sk-dashed-wrapped {border: 1px dashed gray;margin: 0 0.4em 0.5em 0.4em;box-sizing: border-box;padding-bottom: 0.4em;background-color: white;}#sk-container-id-3 div.sk-label label {font-family: monospace;font-weight: bold;display: inline-block;line-height: 1.2em;}#sk-container-id-3 div.sk-label-container {text-align: center;}#sk-container-id-3 div.sk-container {/* jupyter's `normalize.less` sets `[hidden] { display: none; }` but bootstrap.min.css set `[hidden] { display: none !important; }` so we also need the `!important` here to be able to override the default hidden behavior on the sphinx rendered scikit-learn.org. See: https://github.com/scikit-learn/scikit-learn/issues/21755 */display: inline-block !important;position: relative;}#sk-container-id-3 div.sk-text-repr-fallback {display: none;}</style><div id=\"sk-container-id-3\" class=\"sk-top-container\"><div class=\"sk-text-repr-fallback\"><pre>XGBRegressor(base_score=None, booster=None, callbacks=None,\n",
       "             colsample_bylevel=None, colsample_bynode=None,\n",
       "             colsample_bytree=None, device=None, early_stopping_rounds=None,\n",
       "             enable_categorical=False, eval_metric=None, feature_types=None,\n",
       "             gamma=None, grow_policy=None, importance_type=None,\n",
       "             interaction_constraints=None, learning_rate=None, max_bin=None,\n",
       "             max_cat_threshold=None, max_cat_to_onehot=None,\n",
       "             max_delta_step=None, max_depth=None, max_leaves=None,\n",
       "             min_child_weight=None, missing=nan, monotone_constraints=None,\n",
       "             multi_strategy=None, n_estimators=None, n_jobs=None,\n",
       "             num_parallel_tree=None, random_state=None, ...)</pre><b>In a Jupyter environment, please rerun this cell to show the HTML representation or trust the notebook. <br />On GitHub, the HTML representation is unable to render, please try loading this page with nbviewer.org.</b></div><div class=\"sk-container\" hidden><div class=\"sk-item\"><div class=\"sk-estimator sk-toggleable\"><input class=\"sk-toggleable__control sk-hidden--visually\" id=\"sk-estimator-id-3\" type=\"checkbox\" checked><label for=\"sk-estimator-id-3\" class=\"sk-toggleable__label sk-toggleable__label-arrow\">XGBRegressor</label><div class=\"sk-toggleable__content\"><pre>XGBRegressor(base_score=None, booster=None, callbacks=None,\n",
       "             colsample_bylevel=None, colsample_bynode=None,\n",
       "             colsample_bytree=None, device=None, early_stopping_rounds=None,\n",
       "             enable_categorical=False, eval_metric=None, feature_types=None,\n",
       "             gamma=None, grow_policy=None, importance_type=None,\n",
       "             interaction_constraints=None, learning_rate=None, max_bin=None,\n",
       "             max_cat_threshold=None, max_cat_to_onehot=None,\n",
       "             max_delta_step=None, max_depth=None, max_leaves=None,\n",
       "             min_child_weight=None, missing=nan, monotone_constraints=None,\n",
       "             multi_strategy=None, n_estimators=None, n_jobs=None,\n",
       "             num_parallel_tree=None, random_state=None, ...)</pre></div></div></div></div></div>"
      ],
      "text/plain": [
       "XGBRegressor(base_score=None, booster=None, callbacks=None,\n",
       "             colsample_bylevel=None, colsample_bynode=None,\n",
       "             colsample_bytree=None, device=None, early_stopping_rounds=None,\n",
       "             enable_categorical=False, eval_metric=None, feature_types=None,\n",
       "             gamma=None, grow_policy=None, importance_type=None,\n",
       "             interaction_constraints=None, learning_rate=None, max_bin=None,\n",
       "             max_cat_threshold=None, max_cat_to_onehot=None,\n",
       "             max_delta_step=None, max_depth=None, max_leaves=None,\n",
       "             min_child_weight=None, missing=nan, monotone_constraints=None,\n",
       "             multi_strategy=None, n_estimators=None, n_jobs=None,\n",
       "             num_parallel_tree=None, random_state=None, ...)"
      ]
     },
     "execution_count": 76,
     "metadata": {},
     "output_type": "execute_result"
    }
   ],
   "source": [
    "## fitting the model\n",
    "\n",
    "xgr.fit(X_train, y_train)"
   ]
  },
  {
   "cell_type": "code",
   "execution_count": 77,
   "id": "a1bfae1f",
   "metadata": {},
   "outputs": [
    {
     "data": {
      "text/plain": [
       "array([ 401.79593  ,    0.9916027,  508.04678  ,  164.25783  ,\n",
       "       -420.3546   , -118.62185  ,   -4.096867 ,  197.37117  ,\n",
       "         -4.111737 ,  -88.2926   ,  247.39851  ,  -10.95818  ,\n",
       "        285.85144  ,  326.13593  ,  -16.938055 ,  303.34274  ,\n",
       "        258.0327   ,  312.47656  , -521.99243  ,   -8.271601 ,\n",
       "       -408.10156  ,   24.46964  ,  295.05716  ,  -12.905672 ,\n",
       "        508.03357  ,   -8.586137 ,  259.41666  ,  262.2794   ,\n",
       "       -343.20828  ,  258.92984  , -299.27225  ,  401.29733  ,\n",
       "        224.92528  ,  -11.926204 ,  362.36835  ,  271.9943   ,\n",
       "       -352.91135  ,  510.83804  ,  225.49507  ,  598.35767  ,\n",
       "         56.39353  , -540.54926  ,   -8.46619  ,  690.0051   ,\n",
       "        220.84807  ,  191.07265  ,  361.87952  ,  128.13422  ,\n",
       "       -139.77159  ,   55.555744 ,  184.26724  ,   17.435663 ,\n",
       "        220.99483  ,  149.89302  , -154.13039  ,    3.1409562,\n",
       "        225.51404  , -340.3652   , -145.32863  , -506.7297   ,\n",
       "        230.27086  ,  367.16583  ,  755.0651   ,  167.04276  ,\n",
       "       -128.08559  ,  321.137    , -366.7438   ,   90.60726  ,\n",
       "        258.18356  ,   61.2896   , -268.1983   ,  514.39465  ,\n",
       "        331.24564  ,   -6.96353  ,  196.9789   ,  229.80782  ,\n",
       "       -195.24707  ,  149.04512  ,  406.4277   ,  263.45615  ,\n",
       "        110.82957  ,  397.52054  , -172.16635  ,  369.9933   ,\n",
       "         39.755318 , -137.67133  ,   41.122025 ,  167.44884  ,\n",
       "         45.388103 , -504.53946  ,  578.68384  ,  464.81238  ,\n",
       "         85.7321   ,  357.34476  ,  434.80002  ,  384.02365  ,\n",
       "        154.76956  ,  331.97803  ,   -2.7594292,  102.28353  ,\n",
       "       -604.4721   , -331.6713   ,  326.01346  ,  219.27272  ,\n",
       "       -189.76993  , -163.61061  ,   -6.166334 ,  220.91986  ,\n",
       "        295.60687  ,  156.45245  , -237.40973  ,  390.59573  ,\n",
       "       -220.10414  ,  166.86671  , -404.07486  ,  270.65656  ,\n",
       "        275.27063  , -369.3651   , -181.17657  , -177.65201  ,\n",
       "        129.3482   ,  291.28052  ,  230.84749  ,  220.44176  ,\n",
       "        223.64183  ,  777.8732   , -217.06287  ,   68.01967  ,\n",
       "         24.219744 ,  230.94331  ,  175.64037  ,  333.1967   ,\n",
       "       -340.68985  , -197.65767  , -142.60422  ,  143.95491  ,\n",
       "        -73.83716  , -278.8893   ,  -12.443935 ,  480.6324   ,\n",
       "        326.1569   ,  105.614685 ,  261.3049   ,  368.03577  ,\n",
       "       -201.92488  , -187.8832   ,  -21.510542 ,  229.74051  ,\n",
       "        229.37741  ,  493.1342   ,  291.00305  , -249.90388  ,\n",
       "        -26.478403 ,  233.74274  ,   77.42264  , -557.7468   ,\n",
       "        189.49692  ,  -26.478403 ,   33.543484 , -392.09515  ,\n",
       "        276.82468  ,  140.86888  ,  179.71031  ,  195.43993  ,\n",
       "       -291.80295  ,  -27.292484 ,  156.92757  ,  320.8506   ,\n",
       "        547.20087  ,  167.73738  , -195.47153  , -149.88002  ,\n",
       "        138.80104  ,  217.1868   ,  -38.50748  ,  348.84778  ,\n",
       "        156.74962  ,  289.4364   ,  563.0322   ,  355.90186  ,\n",
       "        588.4078   ,  216.03893  ,  271.35577  ,  369.99265  ,\n",
       "        167.48192  , -523.544    ,  262.36884  ,  173.19376  ,\n",
       "        262.4633   , -363.05048  ,  196.90872  ,  510.85126  ,\n",
       "          1.7438173,  164.687    ,  244.70657  ,  367.99362  ,\n",
       "       -195.74492  ,  357.1302   ,  203.62677  , -365.7811   ,\n",
       "        408.00726  , -194.4417   ,  349.7564   , -155.88283  ,\n",
       "         48.252987 ,  -73.83716  ,  227.84764  , -137.9046   ,\n",
       "       -284.08582  ,  148.7597   ,  492.855    ,  131.47462  ,\n",
       "        164.99693  ,  462.15762  ,  -11.867981 ,  320.58926  ,\n",
       "        313.16534  , -224.32562  ,  101.4846   ,  388.09683  ,\n",
       "       -266.62152  ,  270.9921   , -191.49258  ,  129.1649   ,\n",
       "        196.62454  ,  156.79391  ,  564.36017  ,  155.22462  ,\n",
       "        -11.993815 , -429.8825   ,  361.82935  , -504.61737  ,\n",
       "         15.708766 , -106.68005  ,   41.122025 ,  324.05737  ,\n",
       "        367.5631   ,  -38.908745 ,   -8.977911 , -325.30743  ,\n",
       "        409.9616   , -172.05917  ], dtype=float32)"
      ]
     },
     "execution_count": 77,
     "metadata": {},
     "output_type": "execute_result"
    }
   ],
   "source": [
    "## predicting the model\n",
    "\n",
    "xgr_pred = xgr.predict(X_train)\n",
    "xgr_pred"
   ]
  },
  {
   "cell_type": "code",
   "execution_count": 78,
   "id": "8a221e72",
   "metadata": {},
   "outputs": [
    {
     "name": "stdout",
     "output_type": "stream",
     "text": [
      "R^2: 0.9999918103327344\n",
      "Homogeneity Score: 0.9999999999999998\n",
      "MAE: 0.5543340560325907\n",
      "MSE: 0.6100314195405182\n",
      "RMSE 0.7810450816313474\n",
      "Adjusted R^2: 1.0000900863399211\n"
     ]
    },
    {
     "name": "stderr",
     "output_type": "stream",
     "text": [
      "C:\\ProgramData\\anaconda3\\Lib\\site-packages\\sklearn\\metrics\\cluster\\_supervised.py:66: UserWarning: Clustering metrics expects discrete values but received multiclass values for label, and continuous values for target\n",
      "  warnings.warn(msg, UserWarning)\n"
     ]
    }
   ],
   "source": [
    "## Checking for the evaluation metrics\n",
    "\n",
    "print(\"R^2:\" , r2_score(y_train, xgr_pred))\n",
    "print(\"Homogeneity Score:\", homogeneity_score(y_train, xgr_pred))\n",
    "print(\"MAE:\", mean_absolute_error(y_train, xgr_pred))\n",
    "print(\"MSE:\", mean_squared_error(y_train, xgr_pred))\n",
    "print(\"RMSE\", np.sqrt(mean_squared_error(y_train, xgr_pred)))\n",
    "print(\"Adjusted R^2:\", 1 - (1 - r2_score(y_train, xgr_pred)) * (len(y_train - 1) / len(y_train) - X_train.shape[1]-1))"
   ]
  },
  {
   "cell_type": "code",
   "execution_count": 79,
   "id": "74333683",
   "metadata": {},
   "outputs": [
    {
     "name": "stdout",
     "output_type": "stream",
     "text": [
      "R^2: 0.9528916743176575\n",
      "Homogeneity Score: 0.9969163453913145\n",
      "MAE: 29.88510372260442\n",
      "MSE: 2692.5070862849734\n",
      "RMSE 51.8893735391455\n",
      "Adjusted R^2: 1.518191582505767\n"
     ]
    },
    {
     "name": "stderr",
     "output_type": "stream",
     "text": [
      "C:\\ProgramData\\anaconda3\\Lib\\site-packages\\sklearn\\metrics\\cluster\\_supervised.py:66: UserWarning: Clustering metrics expects discrete values but received multiclass values for label, and continuous values for target\n",
      "  warnings.warn(msg, UserWarning)\n"
     ]
    }
   ],
   "source": [
    "## checking if the model is overfitting\n",
    "\n",
    "y_test_pred_xgr = xgr.predict(X_test)\n",
    "\n",
    "print(\"R^2:\" , r2_score(y_test, y_test_pred_xgr))\n",
    "print(\"Homogeneity Score:\", homogeneity_score(y_test, y_test_pred_xgr))\n",
    "print(\"MAE:\", mean_absolute_error(y_test, y_test_pred_xgr))\n",
    "print(\"MSE:\", mean_squared_error(y_test, y_test_pred_xgr))\n",
    "print(\"RMSE\", np.sqrt(mean_squared_error(y_test, y_test_pred_xgr)))\n",
    "print(\"Adjusted R^2:\", 1 - (1 - r2_score(y_test, y_test_pred_xgr)) * (len(y_test - 1) / len(y_test) - X_test.shape[1]-1))"
   ]
  },
  {
   "cell_type": "markdown",
   "id": "5d2312c6",
   "metadata": {},
   "source": [
    "#### Despite the model's accuracy of 99%, the evaluation scores slightly differ from the evaluation scores of the train data. "
   ]
  },
  {
   "cell_type": "markdown",
   "id": "286cebc8",
   "metadata": {},
   "source": [
    "#### 4. SVM Regressor"
   ]
  },
  {
   "cell_type": "code",
   "execution_count": 80,
   "id": "bb8f73c8",
   "metadata": {},
   "outputs": [],
   "source": [
    "## Creating a scaled set to be used in the model to improve the results\n",
    "\n",
    "## importing the standard scalar\n",
    "\n",
    "from sklearn.preprocessing import StandardScaler\n",
    "\n",
    "## defining the standard scalar\n",
    "\n",
    "sc = StandardScaler()"
   ]
  },
  {
   "cell_type": "code",
   "execution_count": 81,
   "id": "2872b43d",
   "metadata": {},
   "outputs": [],
   "source": [
    "## defining the training and testing dataset\n",
    "\n",
    "x_train = sc.fit_transform(X_train)\n",
    "x_test = sc.fit_transform(X_test)"
   ]
  },
  {
   "cell_type": "code",
   "execution_count": 82,
   "id": "590b4c40",
   "metadata": {},
   "outputs": [],
   "source": [
    "## training the model\n",
    "\n",
    "from sklearn import svm"
   ]
  },
  {
   "cell_type": "code",
   "execution_count": 83,
   "id": "b98ad728",
   "metadata": {},
   "outputs": [],
   "source": [
    "## creating an svm regressor\n",
    "\n",
    "svm_reg = svm.SVR()"
   ]
  },
  {
   "cell_type": "code",
   "execution_count": 84,
   "id": "cb8abc3e",
   "metadata": {},
   "outputs": [
    {
     "data": {
      "text/html": [
       "<style>#sk-container-id-4 {color: black;}#sk-container-id-4 pre{padding: 0;}#sk-container-id-4 div.sk-toggleable {background-color: white;}#sk-container-id-4 label.sk-toggleable__label {cursor: pointer;display: block;width: 100%;margin-bottom: 0;padding: 0.3em;box-sizing: border-box;text-align: center;}#sk-container-id-4 label.sk-toggleable__label-arrow:before {content: \"▸\";float: left;margin-right: 0.25em;color: #696969;}#sk-container-id-4 label.sk-toggleable__label-arrow:hover:before {color: black;}#sk-container-id-4 div.sk-estimator:hover label.sk-toggleable__label-arrow:before {color: black;}#sk-container-id-4 div.sk-toggleable__content {max-height: 0;max-width: 0;overflow: hidden;text-align: left;background-color: #f0f8ff;}#sk-container-id-4 div.sk-toggleable__content pre {margin: 0.2em;color: black;border-radius: 0.25em;background-color: #f0f8ff;}#sk-container-id-4 input.sk-toggleable__control:checked~div.sk-toggleable__content {max-height: 200px;max-width: 100%;overflow: auto;}#sk-container-id-4 input.sk-toggleable__control:checked~label.sk-toggleable__label-arrow:before {content: \"▾\";}#sk-container-id-4 div.sk-estimator input.sk-toggleable__control:checked~label.sk-toggleable__label {background-color: #d4ebff;}#sk-container-id-4 div.sk-label input.sk-toggleable__control:checked~label.sk-toggleable__label {background-color: #d4ebff;}#sk-container-id-4 input.sk-hidden--visually {border: 0;clip: rect(1px 1px 1px 1px);clip: rect(1px, 1px, 1px, 1px);height: 1px;margin: -1px;overflow: hidden;padding: 0;position: absolute;width: 1px;}#sk-container-id-4 div.sk-estimator {font-family: monospace;background-color: #f0f8ff;border: 1px dotted black;border-radius: 0.25em;box-sizing: border-box;margin-bottom: 0.5em;}#sk-container-id-4 div.sk-estimator:hover {background-color: #d4ebff;}#sk-container-id-4 div.sk-parallel-item::after {content: \"\";width: 100%;border-bottom: 1px solid gray;flex-grow: 1;}#sk-container-id-4 div.sk-label:hover label.sk-toggleable__label {background-color: #d4ebff;}#sk-container-id-4 div.sk-serial::before {content: \"\";position: absolute;border-left: 1px solid gray;box-sizing: border-box;top: 0;bottom: 0;left: 50%;z-index: 0;}#sk-container-id-4 div.sk-serial {display: flex;flex-direction: column;align-items: center;background-color: white;padding-right: 0.2em;padding-left: 0.2em;position: relative;}#sk-container-id-4 div.sk-item {position: relative;z-index: 1;}#sk-container-id-4 div.sk-parallel {display: flex;align-items: stretch;justify-content: center;background-color: white;position: relative;}#sk-container-id-4 div.sk-item::before, #sk-container-id-4 div.sk-parallel-item::before {content: \"\";position: absolute;border-left: 1px solid gray;box-sizing: border-box;top: 0;bottom: 0;left: 50%;z-index: -1;}#sk-container-id-4 div.sk-parallel-item {display: flex;flex-direction: column;z-index: 1;position: relative;background-color: white;}#sk-container-id-4 div.sk-parallel-item:first-child::after {align-self: flex-end;width: 50%;}#sk-container-id-4 div.sk-parallel-item:last-child::after {align-self: flex-start;width: 50%;}#sk-container-id-4 div.sk-parallel-item:only-child::after {width: 0;}#sk-container-id-4 div.sk-dashed-wrapped {border: 1px dashed gray;margin: 0 0.4em 0.5em 0.4em;box-sizing: border-box;padding-bottom: 0.4em;background-color: white;}#sk-container-id-4 div.sk-label label {font-family: monospace;font-weight: bold;display: inline-block;line-height: 1.2em;}#sk-container-id-4 div.sk-label-container {text-align: center;}#sk-container-id-4 div.sk-container {/* jupyter's `normalize.less` sets `[hidden] { display: none; }` but bootstrap.min.css set `[hidden] { display: none !important; }` so we also need the `!important` here to be able to override the default hidden behavior on the sphinx rendered scikit-learn.org. See: https://github.com/scikit-learn/scikit-learn/issues/21755 */display: inline-block !important;position: relative;}#sk-container-id-4 div.sk-text-repr-fallback {display: none;}</style><div id=\"sk-container-id-4\" class=\"sk-top-container\"><div class=\"sk-text-repr-fallback\"><pre>SVR()</pre><b>In a Jupyter environment, please rerun this cell to show the HTML representation or trust the notebook. <br />On GitHub, the HTML representation is unable to render, please try loading this page with nbviewer.org.</b></div><div class=\"sk-container\" hidden><div class=\"sk-item\"><div class=\"sk-estimator sk-toggleable\"><input class=\"sk-toggleable__control sk-hidden--visually\" id=\"sk-estimator-id-4\" type=\"checkbox\" checked><label for=\"sk-estimator-id-4\" class=\"sk-toggleable__label sk-toggleable__label-arrow\">SVR</label><div class=\"sk-toggleable__content\"><pre>SVR()</pre></div></div></div></div></div>"
      ],
      "text/plain": [
       "SVR()"
      ]
     },
     "execution_count": 84,
     "metadata": {},
     "output_type": "execute_result"
    }
   ],
   "source": [
    "## fitting the model\n",
    "\n",
    "svm_reg.fit(x_train, y_train)"
   ]
  },
  {
   "cell_type": "code",
   "execution_count": 86,
   "id": "f884ddc9",
   "metadata": {},
   "outputs": [
    {
     "data": {
      "text/plain": [
       "array([182.63878464, 101.86829549, 173.74277168, 162.82776033,\n",
       "       102.92820974,  97.39310661, 100.54458487, 160.21821257,\n",
       "        98.39097204,  94.6497249 , 181.74434585,  98.58387078,\n",
       "       175.44956675, 178.88366885,  98.92974997, 171.42131536,\n",
       "       176.23159146, 182.30312895, 103.33031314,  98.36462678,\n",
       "       114.67168427, 100.6977772 , 183.89240793,  98.9259541 ,\n",
       "       160.63979415,  98.597953  , 182.08236751, 183.66492322,\n",
       "       102.0542386 , 187.84457689,  99.59621434, 182.8016545 ,\n",
       "       159.11329806,  99.40226314, 181.77017273, 182.54031851,\n",
       "        96.8969215 , 160.06731224, 177.07629266, 148.15939726,\n",
       "       100.31848773, 102.0800807 ,  94.72302602, 148.70751468,\n",
       "       180.48157824, 157.45882656, 182.26615556, 138.06550026,\n",
       "        94.56229905, 101.61821407, 165.58818336, 100.49976599,\n",
       "       170.08595136, 148.89999997, 102.172827  , 100.78319037,\n",
       "       170.53245351, 101.56708647, 103.44871776, 102.05858582,\n",
       "       156.12622723, 174.74823301, 149.43516753, 167.11576464,\n",
       "        97.05776568, 178.28259271, 102.0767601 , 110.58022786,\n",
       "       185.82916765, 102.88667356,  98.1988192 , 142.19081434,\n",
       "       177.9566713 ,  97.50948415, 171.05998863, 172.4980944 ,\n",
       "       103.25337797, 154.32671397, 184.75837522, 181.92799939,\n",
       "       107.55241619, 146.70872661,  99.35262276, 159.29950662,\n",
       "       100.169812  , 100.60481076,  99.369764  , 167.09999964,\n",
       "        99.13897785, 101.57221271, 144.7553304 , 173.35546035,\n",
       "       103.12513183, 174.13533772, 148.49659607, 183.99253969,\n",
       "       168.91293816, 160.06237822, 100.41666633, 113.80757617,\n",
       "       114.67136828, 102.01425377, 184.23839243, 177.97762404,\n",
       "        99.71829748, 104.01423121,  96.89544914, 141.14214459,\n",
       "       176.94175002, 161.02623507, 105.75444209, 144.35861253,\n",
       "       106.24170376, 174.00699433, 106.26409036, 166.49153342,\n",
       "       180.35793285, 102.95777302, 103.40363814,  95.88243748,\n",
       "       143.97454227, 172.22302674, 158.34801442, 167.8157291 ,\n",
       "       177.31081443, 148.97191007, 109.25696464, 102.23258389,\n",
       "        98.15013754, 151.71717613, 121.35506417, 181.98047025,\n",
       "       109.44366437,  98.88017864, 101.36827453, 112.79286409,\n",
       "        95.70354322,  99.88849936,  96.79257865, 140.98329848,\n",
       "       181.37355294, 113.02491705, 182.14707536, 172.24182132,\n",
       "        99.55744405,  97.23764105, 100.13205645, 165.63479586,\n",
       "       163.37319611, 162.91391121, 171.29919015,  99.5860681 ,\n",
       "        94.2799934 , 153.8006021 , 107.25172365, 105.72212484,\n",
       "       145.20127942,  96.01859457,  98.99695379, 111.30278327,\n",
       "       184.46722225, 113.62786262, 121.0834418 , 178.18517239,\n",
       "        98.91132399,  97.63188472, 159.90917098, 179.38677509,\n",
       "       149.62344307, 173.8123169 ,  99.62954259, 105.94294004,\n",
       "       110.94457131, 178.42062574,  94.35579856, 141.68225601,\n",
       "       157.1909557 , 161.34596867, 148.86413136, 175.87444865,\n",
       "       147.23764093, 182.08493529, 174.3981659 , 172.15356652,\n",
       "       157.21205429, 101.69414225, 187.6491679 , 167.02169898,\n",
       "       176.35399916, 108.23935321, 174.52639569, 173.65064817,\n",
       "       100.6031483 , 154.89394339, 182.72967189, 159.84831179,\n",
       "       101.69018539, 184.90258166, 170.39091686, 108.72448794,\n",
       "       182.03937657, 100.67871807, 178.42081822,  99.41329575,\n",
       "       102.04892866,  94.51402012, 163.93600855,  94.71159387,\n",
       "       113.12170972, 139.9939482 , 175.68708722, 110.97426917,\n",
       "       172.06694936, 181.83637391,  94.8191952 , 175.03760929,\n",
       "       173.69001829, 101.98806063, 111.1151925 , 183.40890748,\n",
       "       110.60779728, 182.60305095,  94.79873218, 121.83157421,\n",
       "       170.14763536, 170.60065804, 149.12035314, 158.72924205,\n",
       "        98.69365858, 109.53743873, 185.79662313, 109.44353433,\n",
       "        98.66061689, 101.82426348,  99.73111385, 140.4666713 ,\n",
       "       178.6236753 ,  97.70250976,  96.69422002, 104.13710952,\n",
       "       184.52946129,  97.53685702])"
      ]
     },
     "execution_count": 86,
     "metadata": {},
     "output_type": "execute_result"
    }
   ],
   "source": [
    "## predicting the model\n",
    "\n",
    "pred_sc = svm_reg.predict(x_train)\n",
    "pred_sc"
   ]
  },
  {
   "cell_type": "code",
   "execution_count": 87,
   "id": "4a9f7a61",
   "metadata": {},
   "outputs": [
    {
     "name": "stdout",
     "output_type": "stream",
     "text": [
      "R^2: 0.1556860231066033\n",
      "Homogeneity Score: 0.9999999999999998\n",
      "MAE: 187.65067098731222\n",
      "MSE: 62891.20634114156\n",
      "RMSE 250.78119215990174\n",
      "Adjusted R^2: 10.287453745827364\n"
     ]
    },
    {
     "name": "stderr",
     "output_type": "stream",
     "text": [
      "C:\\ProgramData\\anaconda3\\Lib\\site-packages\\sklearn\\metrics\\cluster\\_supervised.py:66: UserWarning: Clustering metrics expects discrete values but received multiclass values for label, and continuous values for target\n",
      "  warnings.warn(msg, UserWarning)\n"
     ]
    }
   ],
   "source": [
    "## Evaluating the model scores\n",
    "\n",
    "print(\"R^2:\" , r2_score(y_train, pred_sc))\n",
    "print(\"Homogeneity Score:\", homogeneity_score(y_train, pred_sc))\n",
    "print(\"MAE:\", mean_absolute_error(y_train, pred_sc))\n",
    "print(\"MSE:\", mean_squared_error(y_train, pred_sc))\n",
    "print(\"RMSE\", np.sqrt(mean_squared_error(y_train, pred_sc)))\n",
    "print(\"Adjusted R^2:\", 1 - (1 - r2_score(y_train, pred_sc)) * (len(y_train - 1) / len(y_train) - X_train.shape[1]-1))"
   ]
  },
  {
   "cell_type": "code",
   "execution_count": 88,
   "id": "fa75270d",
   "metadata": {},
   "outputs": [
    {
     "name": "stdout",
     "output_type": "stream",
     "text": [
      "R^2: 0.20027445429232937\n",
      "Homogeneity Score: 1.0\n",
      "MAE: 154.77911451821498\n",
      "MSE: 45708.83527936815\n",
      "RMSE 213.79624711245086\n",
      "Adjusted R^2: 9.796981002784378\n"
     ]
    },
    {
     "name": "stderr",
     "output_type": "stream",
     "text": [
      "C:\\ProgramData\\anaconda3\\Lib\\site-packages\\sklearn\\metrics\\cluster\\_supervised.py:66: UserWarning: Clustering metrics expects discrete values but received multiclass values for label, and continuous values for target\n",
      "  warnings.warn(msg, UserWarning)\n"
     ]
    }
   ],
   "source": [
    "y_test_pred_sc = svm_reg.predict(x_test)\n",
    "\n",
    "print(\"R^2:\" , r2_score(y_test, y_test_pred_sc))\n",
    "print(\"Homogeneity Score:\", homogeneity_score(y_test, y_test_pred_sc))\n",
    "print(\"MAE:\", mean_absolute_error(y_test, y_test_pred_sc))\n",
    "print(\"MSE:\", mean_squared_error(y_test, y_test_pred_sc))\n",
    "print(\"RMSE\", np.sqrt(mean_squared_error(y_test, y_test_pred_sc)))\n",
    "print(\"Adjusted R^2:\", 1 - (1 - r2_score(y_test, y_test_pred_sc)) * (len(y_test - 1) / len(y_test) - X_test.shape[1]-1))"
   ]
  },
  {
   "cell_type": "markdown",
   "id": "249e1cee",
   "metadata": {},
   "source": [
    "#### The model has an accuracy of 15% hence it does not predict the proift well. Also, the evaluation scores are very different from the training data."
   ]
  },
  {
   "cell_type": "code",
   "execution_count": 90,
   "id": "dcbd6d6d",
   "metadata": {},
   "outputs": [],
   "source": [
    "# N/B - The adjusted R-squared value is more than one owing to some negative values found in the prediction model."
   ]
  },
  {
   "cell_type": "markdown",
   "id": "1d866f2b",
   "metadata": {},
   "source": [
    "### Conclusion:\n",
    "    The Linear Regression model is the best predictor of profit."
   ]
  }
 ],
 "metadata": {
  "kernelspec": {
   "display_name": "Python 3 (ipykernel)",
   "language": "python",
   "name": "python3"
  },
  "language_info": {
   "codemirror_mode": {
    "name": "ipython",
    "version": 3
   },
   "file_extension": ".py",
   "mimetype": "text/x-python",
   "name": "python",
   "nbconvert_exporter": "python",
   "pygments_lexer": "ipython3",
   "version": "3.11.5"
  }
 },
 "nbformat": 4,
 "nbformat_minor": 5
}
