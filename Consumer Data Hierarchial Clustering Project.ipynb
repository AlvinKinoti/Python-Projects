{
 "cells": [
  {
   "cell_type": "markdown",
   "id": "a4ce1ca8-5b98-4040-85fd-1776576a2167",
   "metadata": {},
   "source": [
    "# Hierarchial Clustering Project based on Consumer Data\n",
    "\n",
    "This project aims to implement a simple hierarchial model based on consumer data from a sample dataset."
   ]
  },
  {
   "cell_type": "markdown",
   "id": "c748b288-17b0-4fc9-8e80-3739de84a7e9",
   "metadata": {},
   "source": [
    "## Table of Contents \n",
    "1. Loading the required libraries.\n",
    "2. Loading the dataset.\n",
    "3. Exploring the dataset.\n",
    "4. Cleaning the dataset.\n",
    "5. Designing the hierarchial clustering model.\n",
    "6. Interpretation"
   ]
  },
  {
   "cell_type": "markdown",
   "id": "f47eae18-032f-4dd2-8b10-1ba83c09ef44",
   "metadata": {},
   "source": [
    "### Loading the required libraries."
   ]
  },
  {
   "cell_type": "code",
   "execution_count": 28,
   "id": "44e1e736-5ad5-4f46-8895-90cca6485cfd",
   "metadata": {},
   "outputs": [],
   "source": [
    "import pandas as pd\n",
    "import numpy as np\n",
    "import sklearn\n",
    "import scipy \n",
    "import matplotlib.pyplot as plt\n",
    "import seaborn\n",
    "\n",
    "%matplotlib inline"
   ]
  },
  {
   "cell_type": "markdown",
   "id": "77acf768-1ee7-4f3d-9485-c047608e570b",
   "metadata": {},
   "source": [
    "### Loading the dataset"
   ]
  },
  {
   "cell_type": "code",
   "execution_count": 2,
   "id": "fd50c956-8420-4bc2-8a8c-747182f49539",
   "metadata": {},
   "outputs": [
    {
     "name": "stderr",
     "output_type": "stream",
     "text": [
      "<>:3: SyntaxWarning: invalid escape sequence '\\o'\n",
      "<>:3: SyntaxWarning: invalid escape sequence '\\o'\n",
      "C:\\Users\\Alvin\\AppData\\Local\\Temp\\ipykernel_245532\\3419772298.py:3: SyntaxWarning: invalid escape sequence '\\o'\n",
      "  df = pd.read_csv(\"D:\\others\\Personal Projects 2\\Practice Files July 2024\\consumer data.csv\")\n"
     ]
    }
   ],
   "source": [
    "## loading the dataset\n",
    "\n",
    "df = pd.read_csv(\"D:\\others\\Personal Projects 2\\Practice Files July 2024\\consumer data.csv\")"
   ]
  },
  {
   "cell_type": "markdown",
   "id": "9d33faae-e2d3-4cd9-bc57-a331febac88a",
   "metadata": {},
   "source": [
    "### Exploring the dataset."
   ]
  },
  {
   "cell_type": "code",
   "execution_count": 3,
   "id": "27fb019a-61c1-411e-bcab-3ac225cf2a0f",
   "metadata": {},
   "outputs": [
    {
     "data": {
      "text/html": [
       "<div>\n",
       "<style scoped>\n",
       "    .dataframe tbody tr th:only-of-type {\n",
       "        vertical-align: middle;\n",
       "    }\n",
       "\n",
       "    .dataframe tbody tr th {\n",
       "        vertical-align: top;\n",
       "    }\n",
       "\n",
       "    .dataframe thead th {\n",
       "        text-align: right;\n",
       "    }\n",
       "</style>\n",
       "<table border=\"1\" class=\"dataframe\">\n",
       "  <thead>\n",
       "    <tr style=\"text-align: right;\">\n",
       "      <th></th>\n",
       "      <th>customer_id</th>\n",
       "      <th>gender</th>\n",
       "      <th>age</th>\n",
       "      <th>payment_method</th>\n",
       "    </tr>\n",
       "  </thead>\n",
       "  <tbody>\n",
       "    <tr>\n",
       "      <th>0</th>\n",
       "      <td>C241288</td>\n",
       "      <td>Female</td>\n",
       "      <td>28.0</td>\n",
       "      <td>Credit Card</td>\n",
       "    </tr>\n",
       "    <tr>\n",
       "      <th>1</th>\n",
       "      <td>C111565</td>\n",
       "      <td>Male</td>\n",
       "      <td>21.0</td>\n",
       "      <td>Debit Card</td>\n",
       "    </tr>\n",
       "    <tr>\n",
       "      <th>2</th>\n",
       "      <td>C266599</td>\n",
       "      <td>Male</td>\n",
       "      <td>20.0</td>\n",
       "      <td>Cash</td>\n",
       "    </tr>\n",
       "    <tr>\n",
       "      <th>3</th>\n",
       "      <td>C988172</td>\n",
       "      <td>Female</td>\n",
       "      <td>66.0</td>\n",
       "      <td>Credit Card</td>\n",
       "    </tr>\n",
       "    <tr>\n",
       "      <th>4</th>\n",
       "      <td>C189076</td>\n",
       "      <td>Female</td>\n",
       "      <td>53.0</td>\n",
       "      <td>Cash</td>\n",
       "    </tr>\n",
       "  </tbody>\n",
       "</table>\n",
       "</div>"
      ],
      "text/plain": [
       "  customer_id  gender   age payment_method\n",
       "0     C241288  Female  28.0    Credit Card\n",
       "1     C111565    Male  21.0     Debit Card\n",
       "2     C266599    Male  20.0           Cash\n",
       "3     C988172  Female  66.0    Credit Card\n",
       "4     C189076  Female  53.0           Cash"
      ]
     },
     "execution_count": 3,
     "metadata": {},
     "output_type": "execute_result"
    }
   ],
   "source": [
    "## exploring the dataset\n",
    "\n",
    "df.head()"
   ]
  },
  {
   "cell_type": "code",
   "execution_count": 4,
   "id": "22552cdb-23a0-4a07-8aa0-ec5537a774bb",
   "metadata": {},
   "outputs": [
    {
     "data": {
      "text/plain": [
       "(99457, 4)"
      ]
     },
     "execution_count": 4,
     "metadata": {},
     "output_type": "execute_result"
    }
   ],
   "source": [
    "## dimensions of the dataset\n",
    "\n",
    "df.shape"
   ]
  },
  {
   "cell_type": "code",
   "execution_count": 5,
   "id": "d6262146-c49e-4d94-8475-ab4f26b14eed",
   "metadata": {},
   "outputs": [
    {
     "data": {
      "text/html": [
       "<div>\n",
       "<style scoped>\n",
       "    .dataframe tbody tr th:only-of-type {\n",
       "        vertical-align: middle;\n",
       "    }\n",
       "\n",
       "    .dataframe tbody tr th {\n",
       "        vertical-align: top;\n",
       "    }\n",
       "\n",
       "    .dataframe thead th {\n",
       "        text-align: right;\n",
       "    }\n",
       "</style>\n",
       "<table border=\"1\" class=\"dataframe\">\n",
       "  <thead>\n",
       "    <tr style=\"text-align: right;\">\n",
       "      <th></th>\n",
       "      <th>customer_id</th>\n",
       "      <th>gender</th>\n",
       "      <th>age</th>\n",
       "      <th>payment_method</th>\n",
       "    </tr>\n",
       "  </thead>\n",
       "  <tbody>\n",
       "    <tr>\n",
       "      <th>99452</th>\n",
       "      <td>C441542</td>\n",
       "      <td>Female</td>\n",
       "      <td>45.0</td>\n",
       "      <td>Credit Card</td>\n",
       "    </tr>\n",
       "    <tr>\n",
       "      <th>99453</th>\n",
       "      <td>C569580</td>\n",
       "      <td>Male</td>\n",
       "      <td>27.0</td>\n",
       "      <td>Cash</td>\n",
       "    </tr>\n",
       "    <tr>\n",
       "      <th>99454</th>\n",
       "      <td>C103292</td>\n",
       "      <td>Male</td>\n",
       "      <td>63.0</td>\n",
       "      <td>Debit Card</td>\n",
       "    </tr>\n",
       "    <tr>\n",
       "      <th>99455</th>\n",
       "      <td>C800631</td>\n",
       "      <td>Male</td>\n",
       "      <td>56.0</td>\n",
       "      <td>Cash</td>\n",
       "    </tr>\n",
       "    <tr>\n",
       "      <th>99456</th>\n",
       "      <td>C273973</td>\n",
       "      <td>Female</td>\n",
       "      <td>36.0</td>\n",
       "      <td>Credit Card</td>\n",
       "    </tr>\n",
       "  </tbody>\n",
       "</table>\n",
       "</div>"
      ],
      "text/plain": [
       "      customer_id  gender   age payment_method\n",
       "99452     C441542  Female  45.0    Credit Card\n",
       "99453     C569580    Male  27.0           Cash\n",
       "99454     C103292    Male  63.0     Debit Card\n",
       "99455     C800631    Male  56.0           Cash\n",
       "99456     C273973  Female  36.0    Credit Card"
      ]
     },
     "execution_count": 5,
     "metadata": {},
     "output_type": "execute_result"
    }
   ],
   "source": [
    "## last 5 rows\n",
    "\n",
    "df.tail()"
   ]
  },
  {
   "cell_type": "markdown",
   "id": "50e95791-3322-4738-93a5-bb26625afc6a",
   "metadata": {},
   "source": [
    "### Cleaning the dataset"
   ]
  },
  {
   "cell_type": "code",
   "execution_count": 6,
   "id": "9640559a-215f-43e2-aafa-2a3d11c37932",
   "metadata": {},
   "outputs": [],
   "source": [
    "## dropping unwanted columns \n",
    "\n",
    "df1 = df.drop([\"customer_id\"], axis =1)"
   ]
  },
  {
   "cell_type": "code",
   "execution_count": 7,
   "id": "cb19af10-5524-4c33-bb38-dd9dd54bfbd3",
   "metadata": {},
   "outputs": [
    {
     "data": {
      "text/plain": [
       "99139"
      ]
     },
     "execution_count": 7,
     "metadata": {},
     "output_type": "execute_result"
    }
   ],
   "source": [
    "## identifying any duplicates\n",
    "\n",
    "df1.duplicated().sum()"
   ]
  },
  {
   "cell_type": "code",
   "execution_count": 8,
   "id": "2a48faf5-fbd8-4d70-a9fb-79ea8e060f9c",
   "metadata": {},
   "outputs": [
    {
     "data": {
      "text/plain": [
       "(318, 3)"
      ]
     },
     "execution_count": 8,
     "metadata": {},
     "output_type": "execute_result"
    }
   ],
   "source": [
    "## dealing with duplicates\n",
    "\n",
    "df2 = df1.drop_duplicates()\n",
    "\n",
    "df2.shape"
   ]
  },
  {
   "cell_type": "code",
   "execution_count": 9,
   "id": "e3523ab8-9afb-4866-a9b4-98cebe0f2ea2",
   "metadata": {},
   "outputs": [
    {
     "data": {
      "text/plain": [
       "gender            0\n",
       "age               6\n",
       "payment_method    0\n",
       "dtype: int64"
      ]
     },
     "execution_count": 9,
     "metadata": {},
     "output_type": "execute_result"
    }
   ],
   "source": [
    "## checking for any null values\n",
    "\n",
    "df2.isna().sum()"
   ]
  },
  {
   "cell_type": "code",
   "execution_count": 10,
   "id": "4bf25b86-4ff8-45f4-ac8a-043223c95386",
   "metadata": {},
   "outputs": [
    {
     "name": "stderr",
     "output_type": "stream",
     "text": [
      "C:\\Users\\Alvin\\AppData\\Local\\Temp\\ipykernel_245532\\1647382432.py:3: SettingWithCopyWarning: \n",
      "A value is trying to be set on a copy of a slice from a DataFrame.\n",
      "Try using .loc[row_indexer,col_indexer] = value instead\n",
      "\n",
      "See the caveats in the documentation: https://pandas.pydata.org/pandas-docs/stable/user_guide/indexing.html#returning-a-view-versus-a-copy\n",
      "  df2[\"age\"] = df2[\"age\"].fillna(df2[\"age\"].mean())\n"
     ]
    },
    {
     "data": {
      "text/plain": [
       "gender            0\n",
       "age               0\n",
       "payment_method    0\n",
       "dtype: int64"
      ]
     },
     "execution_count": 10,
     "metadata": {},
     "output_type": "execute_result"
    }
   ],
   "source": [
    "## dealing with the null values \n",
    "\n",
    "df2[\"age\"] = df2[\"age\"].fillna(df2[\"age\"].mean())\n",
    "\n",
    "df2.isna().sum()"
   ]
  },
  {
   "cell_type": "code",
   "execution_count": 15,
   "id": "56710420-f79a-4da2-b310-5a197d579cd5",
   "metadata": {},
   "outputs": [
    {
     "name": "stderr",
     "output_type": "stream",
     "text": [
      "C:\\Users\\Alvin\\AppData\\Local\\Temp\\ipykernel_245532\\3491445615.py:1: FutureWarning: Downcasting behavior in `replace` is deprecated and will be removed in a future version. To retain the old behavior, explicitly call `result.infer_objects(copy=False)`. To opt-in to the future behavior, set `pd.set_option('future.no_silent_downcasting', True)`\n",
      "  df2[\"gender\"] = df2[\"gender\"].replace({\n",
      "C:\\Users\\Alvin\\AppData\\Local\\Temp\\ipykernel_245532\\3491445615.py:1: SettingWithCopyWarning: \n",
      "A value is trying to be set on a copy of a slice from a DataFrame.\n",
      "Try using .loc[row_indexer,col_indexer] = value instead\n",
      "\n",
      "See the caveats in the documentation: https://pandas.pydata.org/pandas-docs/stable/user_guide/indexing.html#returning-a-view-versus-a-copy\n",
      "  df2[\"gender\"] = df2[\"gender\"].replace({\n",
      "C:\\Users\\Alvin\\AppData\\Local\\Temp\\ipykernel_245532\\3491445615.py:6: SettingWithCopyWarning: \n",
      "A value is trying to be set on a copy of a slice from a DataFrame.\n",
      "Try using .loc[row_indexer,col_indexer] = value instead\n",
      "\n",
      "See the caveats in the documentation: https://pandas.pydata.org/pandas-docs/stable/user_guide/indexing.html#returning-a-view-versus-a-copy\n",
      "  df2[\"payment_method\"] = df2[\"payment_method\"].replace({\n"
     ]
    }
   ],
   "source": [
    "df2[\"gender\"] = df2[\"gender\"].replace({\n",
    "    \"Male\" : 1,\n",
    "    \"Female\" : 2\n",
    "})\n",
    "\n",
    "df2[\"payment_method\"] = df2[\"payment_method\"].replace({\n",
    "    \"Cash\" : 1,\n",
    "    \"Credit Card\" : 2,\n",
    "    \"Debit Card\" : 3\n",
    "})"
   ]
  },
  {
   "cell_type": "markdown",
   "id": "f4052ff3-4387-4170-bf32-76924ad46207",
   "metadata": {},
   "source": [
    "### Designing the hieriarcial clustering model."
   ]
  },
  {
   "cell_type": "code",
   "execution_count": 21,
   "id": "3c63c7ae-3922-4850-b471-217ba43f3c91",
   "metadata": {},
   "outputs": [],
   "source": [
    "## loading the clustering data \n",
    "\n",
    "from sklearn.preprocessing import StandardScaler\n",
    "from sklearn.preprocessing import LabelEncoder\n",
    "from scipy.cluster.hierarchy import linkage \n",
    "from scipy.cluster.hierarchy import dendrogram\n",
    "from scipy.cluster.hierarchy import fcluster"
   ]
  },
  {
   "cell_type": "code",
   "execution_count": 16,
   "id": "2248a631-6b21-440c-9bb0-0d0df8fc39e3",
   "metadata": {},
   "outputs": [],
   "source": [
    "## peforming the hierarchial clustering\n",
    "\n",
    "data = df2 \n",
    "\n",
    "linkage_matrix = linkage(data, method = \"ward\") "
   ]
  },
  {
   "cell_type": "code",
   "execution_count": 30,
   "id": "4548de29-bdf6-4199-8200-a031d4b703c1",
   "metadata": {},
   "outputs": [],
   "source": [
    "# ##  plotting the dendogram\n",
    "\n",
    "# plt.figure(figsize = (12,6), facecolor = \"brown\")\n",
    "# dendrogram(linkage_matrix, labels= data.columns, leaf_rotation=90, leaf_font_size=10, color_threshold=5)\n",
    "# plt.title(\"Hierarchical Clustering Dendrogram (Consumer Data)\")\n",
    "# plt.xlabel(\"Cluster\")\n",
    "# plt.ylabel(\"Distance\")\n",
    "# plt.grid(True)\n",
    "# plt.axhline(y=5, color = \"b\", linestyle = \"--\", label='Cluster Cut Threshold')\n",
    "# plt.legend()\n",
    "# plt.show()"
   ]
  },
  {
   "cell_type": "code",
   "execution_count": 23,
   "id": "df69f42f-5701-4050-a466-9c41cb756697",
   "metadata": {},
   "outputs": [],
   "source": [
    "## form flat clusters ( specifying the number of clusters)\n",
    "\n",
    "clusters = fcluster(linkage_matrix, t=3, criterion='maxclust')"
   ]
  },
  {
   "cell_type": "code",
   "execution_count": 24,
   "id": "6a6b7daf-0bf2-4bb9-970d-6f982af4d83e",
   "metadata": {},
   "outputs": [
    {
     "name": "stderr",
     "output_type": "stream",
     "text": [
      "C:\\Users\\Alvin\\AppData\\Local\\Temp\\ipykernel_245532\\1912145256.py:3: SettingWithCopyWarning: \n",
      "A value is trying to be set on a copy of a slice from a DataFrame.\n",
      "Try using .loc[row_indexer,col_indexer] = value instead\n",
      "\n",
      "See the caveats in the documentation: https://pandas.pydata.org/pandas-docs/stable/user_guide/indexing.html#returning-a-view-versus-a-copy\n",
      "  data['cluster'] = clusters\n"
     ]
    }
   ],
   "source": [
    "# Add cluster labels to the dataset\n",
    "\n",
    "data['cluster'] = clusters"
   ]
  },
  {
   "cell_type": "code",
   "execution_count": 27,
   "id": "b1922426-3c14-499e-aa43-717dd00e0182",
   "metadata": {},
   "outputs": [
    {
     "name": "stdout",
     "output_type": "stream",
     "text": [
      "Cluster Distribution:\n",
      " cluster  gender\n",
      "1        1         75\n",
      "         2         75\n",
      "2        1         27\n",
      "         2         27\n",
      "3        1         57\n",
      "         2         57\n",
      "Name: count, dtype: int64\n"
     ]
    }
   ],
   "source": [
    "# Evaluate cluster distribution\n",
    "\n",
    "cluster_distribution = data.groupby('cluster')['gender'].value_counts()\n",
    "print(\"Cluster Distribution:\\n\", cluster_distribution)"
   ]
  },
  {
   "cell_type": "code",
   "execution_count": 31,
   "id": "276610df-709e-4817-9680-8aec57727249",
   "metadata": {},
   "outputs": [
    {
     "name": "stdout",
     "output_type": "stream",
     "text": [
      "Silhouette Score: 0.52\n"
     ]
    }
   ],
   "source": [
    "from sklearn.metrics import silhouette_score\n",
    "\n",
    "# Silhouette score (input the feature matrix and the predicted cluster labels)\n",
    "silhouette_avg = silhouette_score(data, clusters)\n",
    "print(f\"Silhouette Score: {silhouette_avg:.2f}\")"
   ]
  },
  {
   "cell_type": "markdown",
   "id": "a07e42f4-1c72-4ea6-a4a2-0b3de89bd438",
   "metadata": {},
   "source": [
    "### Interpretation: \n",
    "\n",
    "Silhouette Score of 0.52 implies there are well-clustered point within the model."
   ]
  }
 ],
 "metadata": {
  "kernelspec": {
   "display_name": "Python 3 (ipykernel)",
   "language": "python",
   "name": "python3"
  },
  "language_info": {
   "codemirror_mode": {
    "name": "ipython",
    "version": 3
   },
   "file_extension": ".py",
   "mimetype": "text/x-python",
   "name": "python",
   "nbconvert_exporter": "python",
   "pygments_lexer": "ipython3",
   "version": "3.12.4"
  }
 },
 "nbformat": 4,
 "nbformat_minor": 5
}
